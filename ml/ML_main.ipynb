{
  "nbformat": 4,
  "nbformat_minor": 0,
  "metadata": {
    "colab": {
      "name": "main.ipynb",
      "provenance": [],
      "collapsed_sections": []
    },
    "kernelspec": {
      "name": "python3",
      "display_name": "Python 3"
    },
    "language_info": {
      "name": "python"
    }
  },
  "cells": [
    {
      "cell_type": "code",
      "execution_count": null,
      "metadata": {
        "id": "RyAZEgOa_Irr"
      },
      "outputs": [],
      "source": [
        "from google.colab import files"
      ]
    },
    {
      "cell_type": "markdown",
      "source": [
        "Load my python modules"
      ],
      "metadata": {
        "id": "XZcLlhaGV93K"
      }
    },
    {
      "cell_type": "code",
      "source": [
        "files.upload()"
      ],
      "metadata": {
        "id": "EmgKqMXHWAQK"
      },
      "execution_count": null,
      "outputs": []
    },
    {
      "cell_type": "markdown",
      "source": [
        "Import modules"
      ],
      "metadata": {
        "id": "nAneL2QrZPpk"
      }
    },
    {
      "cell_type": "code",
      "source": [
        "from my_utilities import scale_images\n",
        "from quantitative_methods import fid\n",
        "\n",
        "import torch\n",
        "import matplotlib.pyplot as plt\n",
        "import torchvision\n",
        "from torchvision.utils import save_image"
      ],
      "metadata": {
        "id": "o3TPByFHZI4_"
      },
      "execution_count": null,
      "outputs": []
    },
    {
      "cell_type": "markdown",
      "source": [
        "Load GAN model"
      ],
      "metadata": {
        "id": "39KgUaV1eLL8"
      }
    },
    {
      "cell_type": "code",
      "source": [
        "model = torch.hub.load('facebookresearch/pytorch_GAN_zoo:hub',\n",
        "                       'PGAN', model_name='celebAHQ-512',\n",
        "                       pretrained=True, useGPU=True)"
      ],
      "metadata": {
        "id": "QDrnf3GmCUL4"
      },
      "execution_count": null,
      "outputs": []
    },
    {
      "cell_type": "code",
      "source": [
        "num_images = 10\n",
        "noise, _ = model.buildNoiseData(num_images)\n",
        "with torch.no_grad():\n",
        "    generated_images = model.test(noise)\n",
        "\n",
        "# i = 0\n",
        "# for img in generated_images.clamp(min=-1, max=1):\n",
        "#     save_image(img, 'img' + str(i) + '.png', normalize=True, scale_each=True)\n",
        "#     i += 1\n",
        "\n",
        "\n",
        "# let's plot these images using torchvision and matplotlib\n",
        "grid = torchvision.utils.make_grid(generated_images.clamp(min=-1, max=1), scale_each=True, normalize=True)\n",
        "plt.imshow(grid.permute(1, 2, 0).cpu().numpy())\n",
        "# plt.show()"
      ],
      "metadata": {
        "id": "_pj5Fsr49fEG"
      },
      "execution_count": null,
      "outputs": []
    },
    {
      "cell_type": "code",
      "source": [
        ""
      ],
      "metadata": {
        "id": "zvTwtM7Rf7mh"
      },
      "execution_count": null,
      "outputs": []
    }
  ]
}