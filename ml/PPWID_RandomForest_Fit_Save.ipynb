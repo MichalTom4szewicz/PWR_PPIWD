{
 "cells": [
  {
   "cell_type": "code",
   "execution_count": 1,
   "id": "cfcab514",
   "metadata": {},
   "outputs": [
    {
     "name": "stdout",
     "output_type": "stream",
     "text": [
      "Accuracy: 0.988 \n",
      "Precision: 0.743 \n",
      "Recall: 0.750\n"
     ]
    },
    {
     "name": "stderr",
     "output_type": "stream",
     "text": [
      "D:\\Dev\\Python\\lib\\site-packages\\sklearn\\metrics\\_classification.py:1248: UndefinedMetricWarning: Precision is ill-defined and being set to 0.0 in labels with no predicted samples. Use `zero_division` parameter to control this behavior.\n",
      "  _warn_prf(average, modifier, msg_start, len(result))\n"
     ]
    },
    {
     "data": {
      "text/plain": [
       "['./models/rf.sav']"
      ]
     },
     "execution_count": 1,
     "metadata": {},
     "output_type": "execute_result"
    },
    {
     "data": {
      "image/png": "[encoded data removed]",
      "text/plain": [
       "<Figure size 432x432 with 2 Axes>"
      ]
     },
     "metadata": {
      "needs_background": "light"
     },
     "output_type": "display_data"
    }
   ],
   "source": [
    "import pandas as pd\n",
    "from sklearn.model_selection import train_test_split\n",
    "from sklearn.preprocessing import StandardScaler\n",
    "from sklearn.ensemble import RandomForestClassifier\n",
    "import joblib\n",
    "from sklearn.metrics import ConfusionMatrixDisplay, confusion_matrix, accuracy_score, precision_score, recall_score\n",
    "import matplotlib.pyplot as plt\n",
    "\n",
    "dataframe = pd.read_csv('./backend_data/PPWID_100_10.csv')\n",
    "\n",
    "# Data Format - class - 0, (gyroscope 1-3, acceleromter 4-6, magnetometr 7-9) x 10 [1-90]\n",
    "\n",
    "X = dataframe.drop('0', axis=1)\n",
    "y = dataframe['0']\n",
    "\n",
    "X = dataframe.drop('0', axis=1)\n",
    "y = dataframe['0']\n",
    "\n",
    "# Best Random Forest combination - Acceleromter (+6g) + Magnetometr\n",
    "\n",
    "gyroscope_cols = []\n",
    "\n",
    "for i in range(1, X.shape[1], 12):\n",
    "    gyroscope_cols.append(str(i))\n",
    "    gyroscope_cols.append(str(i+1))\n",
    "    gyroscope_cols.append(str(i+2))\n",
    "\n",
    "X = X.drop(gyroscope_cols, axis=1)\n",
    "\n",
    "# print(X.head(5))\n",
    "\n",
    "X_train, X_test, y_train, y_test = train_test_split(X, y, random_state=123, test_size=0.20)\n",
    "\n",
    "scaler = StandardScaler()\n",
    "\n",
    "X_train = scaler.fit_transform(X_train)\n",
    "X_test = scaler.transform(X_test)\n",
    "    \n",
    "clf = RandomForestClassifier(max_depth = 50, random_state = 123)\n",
    "clf.fit(X_train, y_train)\n",
    "\n",
    "y_pred = clf.predict(X_test)\n",
    "\n",
    "acc = accuracy_score(y_test, y_pred)\n",
    "p = precision_score(y_test, y_pred,average=None).mean()\n",
    "r = recall_score(y_test, y_pred, average=None).mean()\n",
    "\n",
    "print(\"Accuracy: %.3f \\nPrecision: %.3f \\nRecall: %.3f\" % (acc, p, r) )\n",
    "\n",
    "cm = confusion_matrix(y_test, y_pred, normalize = None)\n",
    "\n",
    "disp = ConfusionMatrixDisplay(\n",
    "    confusion_matrix=cm, \n",
    "    display_labels=['boxing', 'jumping_jacks', 'running', 'squats']\n",
    ")\n",
    "\n",
    "fig, ax = plt.subplots(figsize=(6, 6))\n",
    "disp.plot(ax=ax)\n",
    "    \n",
    "filename = './models/rf.sav'\n",
    "joblib.dump(clf, filename)"
   ]
  }
 ],
 "metadata": {
  "kernelspec": {
   "display_name": "Python 3 (ipykernel)",
   "language": "python",
   "name": "python3"
  },
  "language_info": {
   "codemirror_mode": {
    "name": "ipython",
    "version": 3
   },
   "file_extension": ".py",
   "mimetype": "text/x-python",
   "name": "python",
   "nbconvert_exporter": "python",
   "pygments_lexer": "ipython3",
   "version": "3.9.5"
  }
 },
 "nbformat": 4,
 "nbformat_minor": 5
}
