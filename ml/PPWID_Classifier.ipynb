{
 "cells": [
  {
   "cell_type": "code",
   "execution_count": 1,
   "id": "80f6ca14-1ebf-4802-8856-e5822aaf0a7f",
   "metadata": {},
   "outputs": [],
   "source": [
    "import pandas as pd\n",
    "import numpy as np\n",
    "\n",
    "import matplotlib.pyplot as plt\n",
    "\n",
    "from sklearn.model_selection import train_test_split\n",
    "from sklearn.preprocessing import StandardScaler\n",
    "\n",
    "from sklearn.neural_network import MLPClassifier\n",
    "from sklearn.metrics import confusion_matrix, accuracy_score, precision_score, recall_score\n",
    "from sklearn.metrics import ConfusionMatrixDisplay"
   ]
  },
  {
   "cell_type": "code",
   "execution_count": 2,
   "id": "d39a5632-f368-4ed1-ac6c-1d37094b537c",
   "metadata": {},
   "outputs": [],
   "source": [
    "RANDOM_STATE = 331"
   ]
  },
  {
   "cell_type": "code",
   "execution_count": 3,
   "id": "1a9fe9a9-c131-415e-9e23-c8bb9fa3ef57",
   "metadata": {},
   "outputs": [],
   "source": [
    "dataframe = pd.read_csv('./backend_data/PPWID_100_10.csv')"
   ]
  },
  {
   "cell_type": "code",
   "execution_count": 4,
   "id": "4865b1df-d007-4343-9d37-90e0c5f96cf9",
   "metadata": {},
   "outputs": [
    {
     "data": {
      "text/html": [
       "<div>\n",
       "<style scoped>\n",
       "    .dataframe tbody tr th:only-of-type {\n",
       "        vertical-align: middle;\n",
       "    }\n",
       "\n",
       "    .dataframe tbody tr th {\n",
       "        vertical-align: top;\n",
       "    }\n",
       "\n",
       "    .dataframe thead th {\n",
       "        text-align: right;\n",
       "    }\n",
       "</style>\n",
       "<table border=\"1\" class=\"dataframe\">\n",
       "  <thead>\n",
       "    <tr style=\"text-align: right;\">\n",
       "      <th></th>\n",
       "      <th>0</th>\n",
       "      <th>1</th>\n",
       "      <th>2</th>\n",
       "      <th>3</th>\n",
       "      <th>4</th>\n",
       "      <th>5</th>\n",
       "      <th>6</th>\n",
       "      <th>7</th>\n",
       "      <th>8</th>\n",
       "      <th>9</th>\n",
       "      <th>...</th>\n",
       "      <th>81</th>\n",
       "      <th>82</th>\n",
       "      <th>83</th>\n",
       "      <th>84</th>\n",
       "      <th>85</th>\n",
       "      <th>86</th>\n",
       "      <th>87</th>\n",
       "      <th>88</th>\n",
       "      <th>89</th>\n",
       "      <th>90</th>\n",
       "    </tr>\n",
       "  </thead>\n",
       "  <tbody>\n",
       "    <tr>\n",
       "      <th>0</th>\n",
       "      <td>0</td>\n",
       "      <td>23.231709</td>\n",
       "      <td>15.670732</td>\n",
       "      <td>21.585367</td>\n",
       "      <td>0.076355</td>\n",
       "      <td>1.044250</td>\n",
       "      <td>0.022095</td>\n",
       "      <td>0.000036</td>\n",
       "      <td>-0.000033</td>\n",
       "      <td>-0.000050</td>\n",
       "      <td>...</td>\n",
       "      <td>-0.000043</td>\n",
       "      <td>-12.865854</td>\n",
       "      <td>-60.304878</td>\n",
       "      <td>5.000000</td>\n",
       "      <td>0.049377</td>\n",
       "      <td>0.928711</td>\n",
       "      <td>0.367981</td>\n",
       "      <td>0.000036</td>\n",
       "      <td>-0.000035</td>\n",
       "      <td>-0.000041</td>\n",
       "    </tr>\n",
       "    <tr>\n",
       "      <th>1</th>\n",
       "      <td>0</td>\n",
       "      <td>-41.951221</td>\n",
       "      <td>-58.963417</td>\n",
       "      <td>-17.682928</td>\n",
       "      <td>0.066284</td>\n",
       "      <td>0.838867</td>\n",
       "      <td>0.053528</td>\n",
       "      <td>0.000036</td>\n",
       "      <td>-0.000036</td>\n",
       "      <td>-0.000034</td>\n",
       "      <td>...</td>\n",
       "      <td>-0.000038</td>\n",
       "      <td>-23.048780</td>\n",
       "      <td>-6.890244</td>\n",
       "      <td>-10.426829</td>\n",
       "      <td>0.059082</td>\n",
       "      <td>1.296509</td>\n",
       "      <td>-0.158020</td>\n",
       "      <td>0.000035</td>\n",
       "      <td>-0.000035</td>\n",
       "      <td>-0.000041</td>\n",
       "    </tr>\n",
       "    <tr>\n",
       "      <th>2</th>\n",
       "      <td>0</td>\n",
       "      <td>-9.634147</td>\n",
       "      <td>101.890244</td>\n",
       "      <td>-4.390244</td>\n",
       "      <td>0.024902</td>\n",
       "      <td>1.262085</td>\n",
       "      <td>-0.118713</td>\n",
       "      <td>0.000033</td>\n",
       "      <td>-0.000033</td>\n",
       "      <td>-0.000048</td>\n",
       "      <td>...</td>\n",
       "      <td>-0.000041</td>\n",
       "      <td>-46.463417</td>\n",
       "      <td>-53.963417</td>\n",
       "      <td>-18.109756</td>\n",
       "      <td>0.052124</td>\n",
       "      <td>0.760864</td>\n",
       "      <td>0.077332</td>\n",
       "      <td>0.000030</td>\n",
       "      <td>-0.000034</td>\n",
       "      <td>-0.000037</td>\n",
       "    </tr>\n",
       "    <tr>\n",
       "      <th>3</th>\n",
       "      <td>0</td>\n",
       "      <td>-47.804878</td>\n",
       "      <td>-12.256098</td>\n",
       "      <td>-0.182927</td>\n",
       "      <td>0.062622</td>\n",
       "      <td>0.752625</td>\n",
       "      <td>0.041138</td>\n",
       "      <td>0.000030</td>\n",
       "      <td>-0.000033</td>\n",
       "      <td>-0.000036</td>\n",
       "      <td>...</td>\n",
       "      <td>-0.000041</td>\n",
       "      <td>56.036587</td>\n",
       "      <td>66.341461</td>\n",
       "      <td>0.548781</td>\n",
       "      <td>0.144348</td>\n",
       "      <td>0.941528</td>\n",
       "      <td>0.337585</td>\n",
       "      <td>0.000034</td>\n",
       "      <td>-0.000035</td>\n",
       "      <td>-0.000039</td>\n",
       "    </tr>\n",
       "    <tr>\n",
       "      <th>4</th>\n",
       "      <td>0</td>\n",
       "      <td>45.792683</td>\n",
       "      <td>83.597565</td>\n",
       "      <td>15.670732</td>\n",
       "      <td>-0.018799</td>\n",
       "      <td>0.574280</td>\n",
       "      <td>0.092041</td>\n",
       "      <td>0.000035</td>\n",
       "      <td>-0.000036</td>\n",
       "      <td>-0.000040</td>\n",
       "      <td>...</td>\n",
       "      <td>-0.000040</td>\n",
       "      <td>9.268292</td>\n",
       "      <td>-25.365854</td>\n",
       "      <td>-0.487805</td>\n",
       "      <td>-0.033447</td>\n",
       "      <td>1.066467</td>\n",
       "      <td>-0.007202</td>\n",
       "      <td>0.000038</td>\n",
       "      <td>-0.000035</td>\n",
       "      <td>-0.000042</td>\n",
       "    </tr>\n",
       "  </tbody>\n",
       "</table>\n",
       "<p>5 rows × 91 columns</p>\n",
       "</div>"
      ],
      "text/plain": [
       "   0          1           2          3         4         5         6  \\\n",
       "0  0  23.231709   15.670732  21.585367  0.076355  1.044250  0.022095   \n",
       "1  0 -41.951221  -58.963417 -17.682928  0.066284  0.838867  0.053528   \n",
       "2  0  -9.634147  101.890244  -4.390244  0.024902  1.262085 -0.118713   \n",
       "3  0 -47.804878  -12.256098  -0.182927  0.062622  0.752625  0.041138   \n",
       "4  0  45.792683   83.597565  15.670732 -0.018799  0.574280  0.092041   \n",
       "\n",
       "          7         8         9  ...        81         82         83  \\\n",
       "0  0.000036 -0.000033 -0.000050  ... -0.000043 -12.865854 -60.304878   \n",
       "1  0.000036 -0.000036 -0.000034  ... -0.000038 -23.048780  -6.890244   \n",
       "2  0.000033 -0.000033 -0.000048  ... -0.000041 -46.463417 -53.963417   \n",
       "3  0.000030 -0.000033 -0.000036  ... -0.000041  56.036587  66.341461   \n",
       "4  0.000035 -0.000036 -0.000040  ... -0.000040   9.268292 -25.365854   \n",
       "\n",
       "          84        85        86        87        88        89        90  \n",
       "0   5.000000  0.049377  0.928711  0.367981  0.000036 -0.000035 -0.000041  \n",
       "1 -10.426829  0.059082  1.296509 -0.158020  0.000035 -0.000035 -0.000041  \n",
       "2 -18.109756  0.052124  0.760864  0.077332  0.000030 -0.000034 -0.000037  \n",
       "3   0.548781  0.144348  0.941528  0.337585  0.000034 -0.000035 -0.000039  \n",
       "4  -0.487805 -0.033447  1.066467 -0.007202  0.000038 -0.000035 -0.000042  \n",
       "\n",
       "[5 rows x 91 columns]"
      ]
     },
     "execution_count": 4,
     "metadata": {},
     "output_type": "execute_result"
    }
   ],
   "source": [
    "dataframe.head(5)"
   ]
  },
  {
   "cell_type": "code",
   "execution_count": 5,
   "id": "87dc4fb7-062c-4481-84e9-7b6d51470a21",
   "metadata": {},
   "outputs": [],
   "source": [
    "X = dataframe.drop('0', axis=1)\n",
    "y = dataframe['0']"
   ]
  },
  {
   "cell_type": "code",
   "execution_count": 6,
   "id": "05722c0b-9f1b-4046-8375-17eff1215893",
   "metadata": {},
   "outputs": [],
   "source": [
    "def MLPClassification(X, y, hidden_layer_sizes=[64, 32, 16]):\n",
    "\n",
    "    X_train, X_test, y_train, y_test = train_test_split(X, y, random_state=RANDOM_STATE, test_size=0.25)\n",
    "\n",
    "    scaler = StandardScaler()\n",
    "\n",
    "    X_train = scaler.fit_transform(X_train)\n",
    "    X_test = scaler.transform(X_test)\n",
    "    \n",
    "    clf = MLPClassifier(hidden_layer_sizes=hidden_layer_sizes, random_state=RANDOM_STATE)\n",
    "    clf.fit(X_train, y_train)\n",
    "\n",
    "    y_pred = clf.predict(X_test)\n",
    "\n",
    "    acc = accuracy_score(y_test, y_pred)\n",
    "    p = precision_score(y_test, y_pred,average=None).mean()\n",
    "    r = recall_score(y_test, y_pred, average=None).mean()\n",
    "\n",
    "    print(\"Accuracy: %.3f \\nPrecision: %.3f \\nRecall: %.3f\" % (acc, p, r) )\n",
    "\n",
    "    cm = confusion_matrix(y_test, y_pred, normalize = 'true')\n",
    "\n",
    "    disp = ConfusionMatrixDisplay(\n",
    "        confusion_matrix=cm, \n",
    "        display_labels=['Boxing', 'Jumping_jacks', 'Other', 'Squats']\n",
    "    )\n",
    "\n",
    "    fig, ax = plt.subplots(figsize=(6, 6))\n",
    "    disp.plot(ax=ax)\n",
    "    \n",
    "    return acc, p, r"
   ]
  },
  {
   "cell_type": "code",
   "execution_count": 7,
   "id": "e6fe8b1a-3714-4d04-9239-729c1b6deafa",
   "metadata": {},
   "outputs": [
    {
     "name": "stdout",
     "output_type": "stream",
     "text": [
      "- - - - - - - - - - - - -\n",
      "Hidden layer sizes [32, 16, 8]\n"
     ]
    },
    {
     "name": "stderr",
     "output_type": "stream",
     "text": [
      "C:\\Users\\Wojtek\\anaconda3\\envs\\aied\\lib\\site-packages\\sklearn\\metrics\\_classification.py:1318: UndefinedMetricWarning: Precision is ill-defined and being set to 0.0 in labels with no predicted samples. Use `zero_division` parameter to control this behavior.\n",
      "  _warn_prf(average, modifier, msg_start, len(result))\n"
     ]
    },
    {
     "name": "stdout",
     "output_type": "stream",
     "text": [
      "Accuracy: 0.977 \n",
      "Precision: 0.717 \n",
      "Recall: 0.742\n",
      "- - - - - - - - - - - - -\n",
      "Hidden layer sizes [64, 32, 16]\n",
      "Accuracy: 0.984 \n",
      "Precision: 0.867 \n",
      "Recall: 0.994\n",
      "- - - - - - - - - - - - -\n",
      "Hidden layer sizes [128, 64, 32]\n",
      "Accuracy: 0.984 \n",
      "Precision: 0.988 \n",
      "Recall: 0.992\n"
     ]
    },
    {
     "data": {
      "image/png": "[encoded data removed]",
      "text/plain": [
       "<Figure size 432x432 with 2 Axes>"
      ]
     },
     "metadata": {
      "needs_background": "light"
     },
     "output_type": "display_data"
    },
    {
     "data": {
      "image/png": "[encoded data removed]",
      "text/plain": [
       "<Figure size 432x432 with 2 Axes>"
      ]
     },
     "metadata": {
      "needs_background": "light"
     },
     "output_type": "display_data"
    },
    {
     "data": {
      "image/png": "[encoded data removed]",
      "text/plain": [
       "<Figure size 432x432 with 2 Axes>"
      ]
     },
     "metadata": {
      "needs_background": "light"
     },
     "output_type": "display_data"
    }
   ],
   "source": [
    "layers_list = [\n",
    "    [32, 16, 8],\n",
    "    [64, 32, 16],\n",
    "    [128, 64, 32],\n",
    "]\n",
    "\n",
    "accs = []\n",
    "pres = []\n",
    "recs = []\n",
    "\n",
    "for layers in layers_list:\n",
    "    print(\"- - - - - - - - - - - - -\")\n",
    "    print(\"Hidden layer sizes\", layers)\n",
    "    \n",
    "    acc, p, r = MLPClassification(X, y, layers)\n",
    "    \n",
    "    accs.append(acc)\n",
    "    pres.append(p)\n",
    "    recs.append(r)"
   ]
  },
  {
   "cell_type": "code",
   "execution_count": null,
   "id": "08936c5f-c2eb-4604-a3cb-de34263b9488",
   "metadata": {},
   "outputs": [],
   "source": []
  },
  {
   "cell_type": "code",
   "execution_count": null,
   "id": "519dccc3-4f3f-487f-8a8a-6fbcd52ad190",
   "metadata": {},
   "outputs": [],
   "source": []
  }
 ],
 "metadata": {
  "kernelspec": {
   "display_name": "Python (aied)",
   "language": "python",
   "name": "aied"
  },
  "language_info": {
   "codemirror_mode": {
    "name": "ipython",
    "version": 3
   },
   "file_extension": ".py",
   "mimetype": "text/x-python",
   "name": "python",
   "nbconvert_exporter": "python",
   "pygments_lexer": "ipython3",
   "version": "3.9.7"
  }
 },
 "nbformat": 4,
 "nbformat_minor": 5
}
