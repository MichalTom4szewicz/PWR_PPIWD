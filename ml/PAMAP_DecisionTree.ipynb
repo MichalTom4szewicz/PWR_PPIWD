{
 "cells": [
  {
   "cell_type": "code",
   "execution_count": 1,
   "id": "412f271a-6898-4f72-8c00-04f5bdb2e8e0",
   "metadata": {},
   "outputs": [],
   "source": [
    "import pandas as pd\n",
    "import numpy as np\n",
    "\n",
    "from sklearn.model_selection import train_test_split\n",
    "from sklearn.preprocessing import StandardScaler\n",
    "\n",
    "from sklearn.tree import DecisionTreeClassifier, plot_tree\n",
    "import matplotlib.pyplot as plt\n",
    "from sklearn.metrics import confusion_matrix\n",
    "from sklearn.metrics import ConfusionMatrixDisplay\n",
    "\n",
    "from imblearn.over_sampling import SMOTE, RandomOverSampler\n",
    "\n",
    "from sklearn.decomposition import PCA"
   ]
  },
  {
   "cell_type": "code",
   "execution_count": 2,
   "id": "bb303c2c-be74-4964-8704-283ea55c5b6e",
   "metadata": {},
   "outputs": [],
   "source": [
    "RANDOM_STATE = 2022"
   ]
  },
  {
   "cell_type": "markdown",
   "id": "817203b2-810a-449c-b49d-8352ff362bf8",
   "metadata": {
    "tags": []
   },
   "source": [
    "# 3s window, 4Hz measurement PAMAP classification"
   ]
  },
  {
   "cell_type": "code",
   "execution_count": 3,
   "id": "b19f72cf-57ba-4fd4-9142-f75b81b4f7cc",
   "metadata": {},
   "outputs": [],
   "source": [
    "dataframe = pd.read_csv('./data/PAMAP2_Extracted_300_25.csv')"
   ]
  },
  {
   "cell_type": "code",
   "execution_count": 4,
   "id": "caf9ce1b-a71a-4702-914f-a78c01a20bb9",
   "metadata": {},
   "outputs": [
    {
     "data": {
      "text/html": [
       "<div>\n",
       "<style scoped>\n",
       "    .dataframe tbody tr th:only-of-type {\n",
       "        vertical-align: middle;\n",
       "    }\n",
       "\n",
       "    .dataframe tbody tr th {\n",
       "        vertical-align: top;\n",
       "    }\n",
       "\n",
       "    .dataframe thead th {\n",
       "        text-align: right;\n",
       "    }\n",
       "</style>\n",
       "<table border=\"1\" class=\"dataframe\">\n",
       "  <thead>\n",
       "    <tr style=\"text-align: right;\">\n",
       "      <th></th>\n",
       "      <th>0</th>\n",
       "      <th>1</th>\n",
       "      <th>2</th>\n",
       "      <th>3</th>\n",
       "      <th>4</th>\n",
       "      <th>5</th>\n",
       "      <th>6</th>\n",
       "      <th>7</th>\n",
       "      <th>8</th>\n",
       "      <th>9</th>\n",
       "      <th>...</th>\n",
       "      <th>135</th>\n",
       "      <th>136</th>\n",
       "      <th>137</th>\n",
       "      <th>138</th>\n",
       "      <th>139</th>\n",
       "      <th>140</th>\n",
       "      <th>141</th>\n",
       "      <th>142</th>\n",
       "      <th>143</th>\n",
       "      <th>144</th>\n",
       "    </tr>\n",
       "  </thead>\n",
       "  <tbody>\n",
       "    <tr>\n",
       "      <th>0</th>\n",
       "      <td>0</td>\n",
       "      <td>2.37223</td>\n",
       "      <td>8.60074</td>\n",
       "      <td>3.51048</td>\n",
       "      <td>2.43954</td>\n",
       "      <td>8.76165</td>\n",
       "      <td>3.35465</td>\n",
       "      <td>-0.092217</td>\n",
       "      <td>0.056812</td>\n",
       "      <td>-0.015845</td>\n",
       "      <td>...</td>\n",
       "      <td>3.55511</td>\n",
       "      <td>2.92381</td>\n",
       "      <td>8.78856</td>\n",
       "      <td>3.56551</td>\n",
       "      <td>0.010339</td>\n",
       "      <td>0.035223</td>\n",
       "      <td>-0.015202</td>\n",
       "      <td>4.01899</td>\n",
       "      <td>-70.8092</td>\n",
       "      <td>-2.590940</td>\n",
       "    </tr>\n",
       "    <tr>\n",
       "      <th>1</th>\n",
       "      <td>0</td>\n",
       "      <td>2.29585</td>\n",
       "      <td>8.67686</td>\n",
       "      <td>3.47059</td>\n",
       "      <td>2.35174</td>\n",
       "      <td>8.62679</td>\n",
       "      <td>3.80806</td>\n",
       "      <td>-0.049142</td>\n",
       "      <td>-0.038741</td>\n",
       "      <td>-0.020873</td>\n",
       "      <td>...</td>\n",
       "      <td>3.43568</td>\n",
       "      <td>2.69787</td>\n",
       "      <td>8.68458</td>\n",
       "      <td>3.68677</td>\n",
       "      <td>0.169545</td>\n",
       "      <td>-0.045680</td>\n",
       "      <td>-0.018241</td>\n",
       "      <td>5.23624</td>\n",
       "      <td>-71.5280</td>\n",
       "      <td>-2.959810</td>\n",
       "    </tr>\n",
       "    <tr>\n",
       "      <th>2</th>\n",
       "      <td>0</td>\n",
       "      <td>2.87239</td>\n",
       "      <td>9.23323</td>\n",
       "      <td>2.55365</td>\n",
       "      <td>2.96491</td>\n",
       "      <td>9.14991</td>\n",
       "      <td>2.70393</td>\n",
       "      <td>-0.430040</td>\n",
       "      <td>0.862167</td>\n",
       "      <td>0.438581</td>\n",
       "      <td>...</td>\n",
       "      <td>2.96389</td>\n",
       "      <td>4.31043</td>\n",
       "      <td>7.46421</td>\n",
       "      <td>3.09887</td>\n",
       "      <td>0.213801</td>\n",
       "      <td>0.629110</td>\n",
       "      <td>-0.319256</td>\n",
       "      <td>9.08985</td>\n",
       "      <td>-68.9533</td>\n",
       "      <td>-0.545889</td>\n",
       "    </tr>\n",
       "    <tr>\n",
       "      <th>3</th>\n",
       "      <td>0</td>\n",
       "      <td>3.09022</td>\n",
       "      <td>9.35263</td>\n",
       "      <td>3.36474</td>\n",
       "      <td>3.01691</td>\n",
       "      <td>9.21065</td>\n",
       "      <td>3.45878</td>\n",
       "      <td>-0.132352</td>\n",
       "      <td>-0.150542</td>\n",
       "      <td>-0.018884</td>\n",
       "      <td>...</td>\n",
       "      <td>4.43231</td>\n",
       "      <td>2.38958</td>\n",
       "      <td>8.95931</td>\n",
       "      <td>4.39622</td>\n",
       "      <td>-0.462191</td>\n",
       "      <td>0.016133</td>\n",
       "      <td>0.049036</td>\n",
       "      <td>8.32884</td>\n",
       "      <td>-69.3952</td>\n",
       "      <td>-5.055360</td>\n",
       "    </tr>\n",
       "    <tr>\n",
       "      <th>4</th>\n",
       "      <td>0</td>\n",
       "      <td>2.87017</td>\n",
       "      <td>8.97734</td>\n",
       "      <td>3.63213</td>\n",
       "      <td>2.97282</td>\n",
       "      <td>9.06021</td>\n",
       "      <td>3.74607</td>\n",
       "      <td>-0.126235</td>\n",
       "      <td>0.030481</td>\n",
       "      <td>-0.038864</td>\n",
       "      <td>...</td>\n",
       "      <td>3.46768</td>\n",
       "      <td>2.18459</td>\n",
       "      <td>8.68819</td>\n",
       "      <td>3.58158</td>\n",
       "      <td>-0.372702</td>\n",
       "      <td>0.114139</td>\n",
       "      <td>-0.001781</td>\n",
       "      <td>15.90850</td>\n",
       "      <td>-69.6117</td>\n",
       "      <td>-5.491680</td>\n",
       "    </tr>\n",
       "  </tbody>\n",
       "</table>\n",
       "<p>5 rows × 145 columns</p>\n",
       "</div>"
      ],
      "text/plain": [
       "   0        1        2        3        4        5        6         7  \\\n",
       "0  0  2.37223  8.60074  3.51048  2.43954  8.76165  3.35465 -0.092217   \n",
       "1  0  2.29585  8.67686  3.47059  2.35174  8.62679  3.80806 -0.049142   \n",
       "2  0  2.87239  9.23323  2.55365  2.96491  9.14991  2.70393 -0.430040   \n",
       "3  0  3.09022  9.35263  3.36474  3.01691  9.21065  3.45878 -0.132352   \n",
       "4  0  2.87017  8.97734  3.63213  2.97282  9.06021  3.74607 -0.126235   \n",
       "\n",
       "          8         9  ...      135      136      137      138       139  \\\n",
       "0  0.056812 -0.015845  ...  3.55511  2.92381  8.78856  3.56551  0.010339   \n",
       "1 -0.038741 -0.020873  ...  3.43568  2.69787  8.68458  3.68677  0.169545   \n",
       "2  0.862167  0.438581  ...  2.96389  4.31043  7.46421  3.09887  0.213801   \n",
       "3 -0.150542 -0.018884  ...  4.43231  2.38958  8.95931  4.39622 -0.462191   \n",
       "4  0.030481 -0.038864  ...  3.46768  2.18459  8.68819  3.58158 -0.372702   \n",
       "\n",
       "        140       141       142      143       144  \n",
       "0  0.035223 -0.015202   4.01899 -70.8092 -2.590940  \n",
       "1 -0.045680 -0.018241   5.23624 -71.5280 -2.959810  \n",
       "2  0.629110 -0.319256   9.08985 -68.9533 -0.545889  \n",
       "3  0.016133  0.049036   8.32884 -69.3952 -5.055360  \n",
       "4  0.114139 -0.001781  15.90850 -69.6117 -5.491680  \n",
       "\n",
       "[5 rows x 145 columns]"
      ]
     },
     "execution_count": 4,
     "metadata": {},
     "output_type": "execute_result"
    }
   ],
   "source": [
    "dataframe.head(5)"
   ]
  },
  {
   "cell_type": "markdown",
   "id": "b92e9203-2ada-47e3-ac91-fa936541ebaa",
   "metadata": {},
   "source": [
    "## Classification on entire data"
   ]
  },
  {
   "cell_type": "code",
   "execution_count": 5,
   "id": "3c6631ff-6725-4ada-8071-ac2575dbcc63",
   "metadata": {},
   "outputs": [],
   "source": [
    "X = dataframe.drop('0', axis=1)\n",
    "y = dataframe['0']"
   ]
  },
  {
   "cell_type": "code",
   "execution_count": 6,
   "id": "50319c3c-ab7c-4122-8347-c1811d4ac6ec",
   "metadata": {},
   "outputs": [
    {
     "name": "stdout",
     "output_type": "stream",
     "text": [
      "train rows: 14655, test rows: 3664\n"
     ]
    }
   ],
   "source": [
    "X_train, X_test, y_train, y_test = train_test_split(X,y,random_state=RANDOM_STATE, test_size=0.20)\n",
    "\n",
    "scaler = StandardScaler()\n",
    "X_train = scaler.fit_transform(X_train)\n",
    "X_test = scaler.transform(X_test)\n",
    "\n",
    "print(\"train rows: {}, test rows: {}\".format(X_train.shape[0], X_test.shape[0]))"
   ]
  },
  {
   "cell_type": "code",
   "execution_count": 7,
   "id": "8c38598c-9bb6-44eb-86c9-046c93046452",
   "metadata": {},
   "outputs": [
    {
     "data": {
      "text/plain": [
       "{0: 9443, 2: 1917, 3: 1943, 5: 900, 24: 452}"
      ]
     },
     "execution_count": 7,
     "metadata": {},
     "output_type": "execute_result"
    }
   ],
   "source": [
    "label, count = np.unique(y_train, return_counts=True)\n",
    "dict(zip(label, count))"
   ]
  },
  {
   "cell_type": "code",
   "execution_count": 8,
   "id": "ed64929b-df5c-4d2f-bb9a-bdf730c95189",
   "metadata": {},
   "outputs": [
    {
     "name": "stdout",
     "output_type": "stream",
     "text": [
      "accuracy = 0.8488\n"
     ]
    }
   ],
   "source": [
    "dt = DecisionTreeClassifier(random_state=RANDOM_STATE)\n",
    "dt.fit(X_train,y_train)\n",
    "\n",
    "y_pred = dt.predict(X_test)\n",
    "\n",
    "accuracy = dt.score(X_test, y_test)\n",
    "\n",
    "print(\"accuracy = {:.4f}\".format(accuracy))"
   ]
  },
  {
   "cell_type": "code",
   "execution_count": 9,
   "id": "81721ba5-087b-4f83-85ab-ee3cf886a213",
   "metadata": {},
   "outputs": [
    {
     "data": {
      "text/plain": [
       "<sklearn.metrics._plot.confusion_matrix.ConfusionMatrixDisplay at 0x206070a55e0>"
      ]
     },
     "execution_count": 9,
     "metadata": {},
     "output_type": "execute_result"
    },
    {
     "data": {
      "image/png": "[encoded data removed]",
      "text/plain": [
       "<Figure size 432x288 with 2 Axes>"
      ]
     },
     "metadata": {
      "needs_background": "light"
     },
     "output_type": "display_data"
    }
   ],
   "source": [
    "ConfusionMatrixDisplay.from_predictions(y_test, y_pred)"
   ]
  },
  {
   "cell_type": "markdown",
   "id": "dd78825e-49f1-4476-ba65-8e1190650a2d",
   "metadata": {
    "tags": []
   },
   "source": [
    "### Oversampling"
   ]
  },
  {
   "cell_type": "code",
   "execution_count": 10,
   "id": "d4490597-696a-49fa-b434-1aade001a9a9",
   "metadata": {},
   "outputs": [],
   "source": [
    "oversample = SMOTE(random_state=RANDOM_STATE)\n",
    "\n",
    "X_train_ov, y_train_ov = oversample.fit_resample(X_train, y_train)"
   ]
  },
  {
   "cell_type": "code",
   "execution_count": 11,
   "id": "49dc992c-5e42-47f4-86ac-4960ba2c76f1",
   "metadata": {},
   "outputs": [
    {
     "data": {
      "text/plain": [
       "{0: 9443, 2: 9443, 3: 9443, 5: 9443, 24: 9443}"
      ]
     },
     "execution_count": 11,
     "metadata": {},
     "output_type": "execute_result"
    }
   ],
   "source": [
    "label, count = np.unique(y_train_ov, return_counts=True)\n",
    "dict(zip(label, count))"
   ]
  },
  {
   "cell_type": "code",
   "execution_count": 12,
   "id": "5a2dd9f4-41ff-4936-9294-6dc13f7d7d74",
   "metadata": {},
   "outputs": [
    {
     "name": "stdout",
     "output_type": "stream",
     "text": [
      "train rows: 47215\n"
     ]
    }
   ],
   "source": [
    "print(\"train rows: {}\".format(X_train_ov.shape[0]))"
   ]
  },
  {
   "cell_type": "code",
   "execution_count": 13,
   "id": "aa0622b8-9a28-4c2b-af81-12c0f421c783",
   "metadata": {},
   "outputs": [
    {
     "name": "stdout",
     "output_type": "stream",
     "text": [
      "accuracy = 0.8128\n"
     ]
    }
   ],
   "source": [
    "dt = DecisionTreeClassifier(random_state=RANDOM_STATE)\n",
    "dt.fit(X_train_ov,y_train_ov)\n",
    "\n",
    "y_pred = dt.predict(X_test)\n",
    "\n",
    "accuracy = dt.score(X_test, y_test)\n",
    "\n",
    "print(\"accuracy = {:.4f}\".format(accuracy))"
   ]
  },
  {
   "cell_type": "code",
   "execution_count": 14,
   "id": "d7fe9ffc-c32a-4b90-a3d7-b16d6dbfa28f",
   "metadata": {},
   "outputs": [
    {
     "data": {
      "text/plain": [
       "<sklearn.metrics._plot.confusion_matrix.ConfusionMatrixDisplay at 0x206070a5190>"
      ]
     },
     "execution_count": 14,
     "metadata": {},
     "output_type": "execute_result"
    },
    {
     "data": {
      "image/png": "[encoded data removed]",
      "text/plain": [
       "<Figure size 432x288 with 2 Axes>"
      ]
     },
     "metadata": {
      "needs_background": "light"
     },
     "output_type": "display_data"
    }
   ],
   "source": [
    "ConfusionMatrixDisplay.from_predictions(y_test, y_pred)"
   ]
  },
  {
   "cell_type": "code",
   "execution_count": 15,
   "id": "01bac12d-60bb-409f-8dc6-ad2fc8854f7e",
   "metadata": {},
   "outputs": [],
   "source": [
    "oversample = RandomOverSampler(random_state=RANDOM_STATE)\n",
    "\n",
    "X_train_ov, y_train_ov = oversample.fit_resample(X_train, y_train)"
   ]
  },
  {
   "cell_type": "code",
   "execution_count": 16,
   "id": "cc3bf9a6-b50b-4ca0-98bf-72d79920cb8d",
   "metadata": {},
   "outputs": [
    {
     "data": {
      "text/plain": [
       "{0: 9443, 2: 9443, 3: 9443, 5: 9443, 24: 9443}"
      ]
     },
     "execution_count": 16,
     "metadata": {},
     "output_type": "execute_result"
    }
   ],
   "source": [
    "label, count = np.unique(y_train_ov, return_counts=True)\n",
    "dict(zip(label, count))"
   ]
  },
  {
   "cell_type": "code",
   "execution_count": 17,
   "id": "6fc3d8fd-8018-4da9-a9ac-f1736059e92d",
   "metadata": {},
   "outputs": [
    {
     "name": "stdout",
     "output_type": "stream",
     "text": [
      "train rows: 47215\n"
     ]
    }
   ],
   "source": [
    "print(\"train rows: {}\".format(X_train_ov.shape[0]))"
   ]
  },
  {
   "cell_type": "code",
   "execution_count": 18,
   "id": "29d55f88-114b-4031-b3d4-7e328bcbb7e5",
   "metadata": {},
   "outputs": [
    {
     "name": "stdout",
     "output_type": "stream",
     "text": [
      "accuracy = 0.8570\n"
     ]
    }
   ],
   "source": [
    "dt = DecisionTreeClassifier(random_state=RANDOM_STATE)\n",
    "dt.fit(X_train_ov,y_train_ov)\n",
    "\n",
    "y_pred = dt.predict(X_test)\n",
    "\n",
    "accuracy = dt.score(X_test, y_test)\n",
    "\n",
    "print(\"accuracy = {:.4f}\".format(accuracy))"
   ]
  },
  {
   "cell_type": "code",
   "execution_count": 19,
   "id": "2f53b69c-63d1-4fb8-ab63-cf0e642ba571",
   "metadata": {},
   "outputs": [
    {
     "data": {
      "text/plain": [
       "<sklearn.metrics._plot.confusion_matrix.ConfusionMatrixDisplay at 0x2060924eaf0>"
      ]
     },
     "execution_count": 19,
     "metadata": {},
     "output_type": "execute_result"
    },
    {
     "data": {
      "image/png": "[encoded data removed]",
      "text/plain": [
       "<Figure size 432x288 with 2 Axes>"
      ]
     },
     "metadata": {
      "needs_background": "light"
     },
     "output_type": "display_data"
    }
   ],
   "source": [
    "ConfusionMatrixDisplay.from_predictions(y_test, y_pred)"
   ]
  },
  {
   "cell_type": "markdown",
   "id": "0660cf4b-2473-4ad1-ac98-32487e1deb46",
   "metadata": {},
   "source": [
    "### PCA"
   ]
  },
  {
   "cell_type": "code",
   "execution_count": 20,
   "id": "0f1e1427-7dbf-42fc-aef3-54276aa94e79",
   "metadata": {},
   "outputs": [],
   "source": [
    "pca = PCA(random_state=RANDOM_STATE)"
   ]
  },
  {
   "cell_type": "code",
   "execution_count": 21,
   "id": "6d480a93-2171-440f-8c45-c8ce59d9d4dc",
   "metadata": {},
   "outputs": [],
   "source": [
    "dt = DecisionTreeClassifier(random_state=RANDOM_STATE)\n",
    "\n",
    "pca.fit(X_train)\n",
    "\n",
    "explained_variance = pca.explained_variance_ratio_"
   ]
  },
  {
   "cell_type": "code",
   "execution_count": 22,
   "id": "0bfbb9ad-0eb5-40cf-83c3-e3c9136ee792",
   "metadata": {},
   "outputs": [
    {
     "data": {
      "image/png": "[encoded data removed]",
      "text/plain": [
       "<Figure size 576x576 with 1 Axes>"
      ]
     },
     "metadata": {
      "needs_background": "light"
     },
     "output_type": "display_data"
    }
   ],
   "source": [
    "s = 0\n",
    "for i in range(len(explained_variance)):\n",
    "    s += explained_variance[i]\n",
    "    explained_variance[i] = s\n",
    "    \n",
    "fig = plt.figure(figsize=(8,8))\n",
    "ax = fig.add_subplot()\n",
    "ax.plot(explained_variance)\n",
    "ax.set_xlabel(xlabel='number of components')\n",
    "ax.grid()\n",
    "plt.show()"
   ]
  },
  {
   "cell_type": "code",
   "execution_count": 23,
   "id": "c2889bc4-c0e0-4f8a-a08d-470f3a9f28a2",
   "metadata": {},
   "outputs": [],
   "source": [
    "N_COMPONENTS = [10, 20, 40, 60, 80]"
   ]
  },
  {
   "cell_type": "code",
   "execution_count": 24,
   "id": "645eb08c-0531-4cb8-ae4d-515ce1cfea16",
   "metadata": {},
   "outputs": [
    {
     "name": "stdout",
     "output_type": "stream",
     "text": [
      "=====================================\n",
      "n_components: 10\n",
      "accuracy = 0.8870\n",
      "=====================================\n",
      "n_components: 20\n",
      "accuracy = 0.8810\n",
      "=====================================\n",
      "n_components: 40\n",
      "accuracy = 0.8796\n",
      "=====================================\n",
      "n_components: 60\n",
      "accuracy = 0.8723\n",
      "=====================================\n",
      "n_components: 80\n",
      "accuracy = 0.8701\n"
     ]
    }
   ],
   "source": [
    "accuracies = []\n",
    "\n",
    "for components in N_COMPONENTS:\n",
    "    dt = DecisionTreeClassifier(random_state=RANDOM_STATE)\n",
    "    \n",
    "    pca = PCA(n_components=components, random_state=RANDOM_STATE)\n",
    "    \n",
    "    pca.fit(X_train)\n",
    "    \n",
    "    dt.fit(pca.transform(X_train),y_train)\n",
    "\n",
    "    y_pred = dt.predict(pca.transform(X_test))\n",
    "\n",
    "    accuracy = dt.score(pca.transform(X_test), y_test)\n",
    "    \n",
    "    accuracies.append(accuracy)\n",
    "    \n",
    "    print(\"=====================================\")\n",
    "    print(\"n_components: {}\".format(components))\n",
    "    print(\"accuracy = {:.4f}\".format(accuracy))"
   ]
  },
  {
   "cell_type": "code",
   "execution_count": 25,
   "id": "106fd60b-7596-4d88-a1d2-600e809f6238",
   "metadata": {},
   "outputs": [
    {
     "data": {
      "image/png": "[encoded data removed]",
      "text/plain": [
       "<Figure size 576x576 with 1 Axes>"
      ]
     },
     "metadata": {
      "needs_background": "light"
     },
     "output_type": "display_data"
    }
   ],
   "source": [
    "plt.figure(figsize=(8,8))\n",
    "x = np.arange(len(N_COMPONENTS))\n",
    "plt.plot(x, accuracies, label=\"accuracy\")\n",
    "plt.xticks(x, N_COMPONENTS)\n",
    "plt.legend()\n",
    "plt.grid()\n",
    "plt.show()"
   ]
  },
  {
   "cell_type": "code",
   "execution_count": 26,
   "id": "d8cad3b1-4c18-4f62-b86c-30b277b2bea2",
   "metadata": {},
   "outputs": [],
   "source": [
    "pca = PCA(n_components=10, random_state=RANDOM_STATE)"
   ]
  },
  {
   "cell_type": "code",
   "execution_count": 27,
   "id": "055e34af-2fc4-4eac-bea1-e295ad11f364",
   "metadata": {},
   "outputs": [
    {
     "name": "stdout",
     "output_type": "stream",
     "text": [
      "accuracy = 0.8870\n"
     ]
    }
   ],
   "source": [
    "pca.fit(X_train)\n",
    "\n",
    "dt.fit(pca.transform(X_train),y_train)\n",
    "\n",
    "y_pred = dt.predict(pca.transform(X_test))\n",
    "\n",
    "accuracy = dt.score(pca.transform(X_test), y_test)\n",
    "\n",
    "accuracies.append(accuracy)\n",
    "\n",
    "print(\"accuracy = {:.4f}\".format(accuracy))"
   ]
  },
  {
   "cell_type": "code",
   "execution_count": 28,
   "id": "2889389c-f756-4a5b-9a49-5d4a29edf577",
   "metadata": {},
   "outputs": [
    {
     "data": {
      "text/plain": [
       "<sklearn.metrics._plot.confusion_matrix.ConfusionMatrixDisplay at 0x20609249850>"
      ]
     },
     "execution_count": 28,
     "metadata": {},
     "output_type": "execute_result"
    },
    {
     "data": {
      "image/png": "[encoded data removed]",
      "text/plain": [
       "<Figure size 432x288 with 2 Axes>"
      ]
     },
     "metadata": {
      "needs_background": "light"
     },
     "output_type": "display_data"
    }
   ],
   "source": [
    "ConfusionMatrixDisplay.from_predictions(y_test, y_pred)"
   ]
  },
  {
   "cell_type": "markdown",
   "id": "5108d122-3661-444d-91fe-8c9f8e65e67f",
   "metadata": {
    "tags": []
   },
   "source": [
    "### Class weights adjustemnts"
   ]
  },
  {
   "cell_type": "code",
   "execution_count": 29,
   "id": "439b0187-797b-4771-a6b0-44072e2c4bdf",
   "metadata": {},
   "outputs": [],
   "source": [
    "N_COMPONENTS = [5, 10, 15, 20, 30]"
   ]
  },
  {
   "cell_type": "code",
   "execution_count": 30,
   "id": "b84ee7c0-54c1-4e78-8aef-db6eb431ae8c",
   "metadata": {},
   "outputs": [
    {
     "name": "stdout",
     "output_type": "stream",
     "text": [
      "=====================================\n",
      "n_components: 5\n",
      "accuracy = 0.8663\n",
      "=====================================\n",
      "n_components: 10\n",
      "accuracy = 0.8903\n",
      "=====================================\n",
      "n_components: 15\n",
      "accuracy = 0.8816\n",
      "=====================================\n",
      "n_components: 20\n",
      "accuracy = 0.8886\n",
      "=====================================\n",
      "n_components: 30\n",
      "accuracy = 0.8796\n"
     ]
    }
   ],
   "source": [
    "accuracies = []\n",
    "\n",
    "for components in N_COMPONENTS:\n",
    "    dt = DecisionTreeClassifier(random_state=RANDOM_STATE, class_weight='balanced')\n",
    "    \n",
    "    pca = PCA(n_components=components, random_state=RANDOM_STATE)\n",
    "    \n",
    "    pca.fit(X_train)\n",
    "    \n",
    "    dt.fit(pca.transform(X_train),y_train)\n",
    "\n",
    "    y_pred = dt.predict(pca.transform(X_test))\n",
    "\n",
    "    accuracy = dt.score(pca.transform(X_test), y_test)\n",
    "    \n",
    "    accuracies.append(accuracy)\n",
    "    \n",
    "    print(\"=====================================\")\n",
    "    print(\"n_components: {}\".format(components))\n",
    "    print(\"accuracy = {:.4f}\".format(accuracy))"
   ]
  },
  {
   "cell_type": "code",
   "execution_count": 31,
   "id": "9b99a74a-cecd-43f0-8297-f2bb91368c2a",
   "metadata": {},
   "outputs": [
    {
     "data": {
      "image/png": "[encoded data removed]",
      "text/plain": [
       "<Figure size 576x576 with 1 Axes>"
      ]
     },
     "metadata": {
      "needs_background": "light"
     },
     "output_type": "display_data"
    }
   ],
   "source": [
    "plt.figure(figsize=(8,8))\n",
    "x = np.arange(len(N_COMPONENTS))\n",
    "plt.plot(x, accuracies, label=\"accuracy\")\n",
    "plt.xticks(x, N_COMPONENTS)\n",
    "plt.legend()\n",
    "plt.grid()\n",
    "plt.show()"
   ]
  },
  {
   "cell_type": "markdown",
   "id": "8cc90038-27a8-4c37-be1b-c8d1838c12a3",
   "metadata": {},
   "source": [
    "## Removing IMU data\n",
    "\n",
    "1-3. 3D-acceleration data (ms-2), scale: Â±16g, resolution: 13-bit\n",
    "\n",
    "4-6. 3D-acceleration data (ms-2), scale: Â±6g, resolution: 13-bit\n",
    "\n",
    "7-9. 3D-gyroscope data (rad/s)\n",
    "\n",
    "10-12. 3D-magnetometer data (Î¼T)"
   ]
  },
  {
   "cell_type": "markdown",
   "id": "01cff28d-c58b-4c90-ab2a-e5cf1b5237be",
   "metadata": {
    "tags": []
   },
   "source": [
    "### Removed magnetometer data"
   ]
  },
  {
   "cell_type": "code",
   "execution_count": 32,
   "id": "88eccaf9-9d5b-4505-9f93-f72c88b934c8",
   "metadata": {},
   "outputs": [],
   "source": [
    "X = dataframe.drop('0', axis=1)\n",
    "y = dataframe['0']"
   ]
  },
  {
   "cell_type": "code",
   "execution_count": 33,
   "id": "28858b38-0c45-443c-87e9-6acc53995729",
   "metadata": {},
   "outputs": [],
   "source": [
    "magnetometer_cols = []\n",
    "for i in range(10, X.shape[1], 12):\n",
    "    magnetometer_cols.append(str(i))\n",
    "    magnetometer_cols.append(str(i+1))\n",
    "    magnetometer_cols.append(str(i+2))"
   ]
  },
  {
   "cell_type": "code",
   "execution_count": 34,
   "id": "4c3b8c5d-ee0d-4565-a975-aa1d715465d6",
   "metadata": {},
   "outputs": [],
   "source": [
    "X = X.drop(magnetometer_cols, axis=1)"
   ]
  },
  {
   "cell_type": "code",
   "execution_count": 35,
   "id": "d2c5cf28-28af-4576-a755-06d2cc9419b8",
   "metadata": {},
   "outputs": [
    {
     "data": {
      "text/html": [
       "<div>\n",
       "<style scoped>\n",
       "    .dataframe tbody tr th:only-of-type {\n",
       "        vertical-align: middle;\n",
       "    }\n",
       "\n",
       "    .dataframe tbody tr th {\n",
       "        vertical-align: top;\n",
       "    }\n",
       "\n",
       "    .dataframe thead th {\n",
       "        text-align: right;\n",
       "    }\n",
       "</style>\n",
       "<table border=\"1\" class=\"dataframe\">\n",
       "  <thead>\n",
       "    <tr style=\"text-align: right;\">\n",
       "      <th></th>\n",
       "      <th>1</th>\n",
       "      <th>2</th>\n",
       "      <th>3</th>\n",
       "      <th>4</th>\n",
       "      <th>5</th>\n",
       "      <th>6</th>\n",
       "      <th>7</th>\n",
       "      <th>8</th>\n",
       "      <th>9</th>\n",
       "      <th>13</th>\n",
       "      <th>...</th>\n",
       "      <th>129</th>\n",
       "      <th>133</th>\n",
       "      <th>134</th>\n",
       "      <th>135</th>\n",
       "      <th>136</th>\n",
       "      <th>137</th>\n",
       "      <th>138</th>\n",
       "      <th>139</th>\n",
       "      <th>140</th>\n",
       "      <th>141</th>\n",
       "    </tr>\n",
       "  </thead>\n",
       "  <tbody>\n",
       "    <tr>\n",
       "      <th>0</th>\n",
       "      <td>2.37223</td>\n",
       "      <td>8.60074</td>\n",
       "      <td>3.51048</td>\n",
       "      <td>2.43954</td>\n",
       "      <td>8.76165</td>\n",
       "      <td>3.35465</td>\n",
       "      <td>-0.092217</td>\n",
       "      <td>0.056812</td>\n",
       "      <td>-0.015845</td>\n",
       "      <td>2.44647</td>\n",
       "      <td>...</td>\n",
       "      <td>0.029452</td>\n",
       "      <td>2.86750</td>\n",
       "      <td>8.97667</td>\n",
       "      <td>3.55511</td>\n",
       "      <td>2.92381</td>\n",
       "      <td>8.78856</td>\n",
       "      <td>3.56551</td>\n",
       "      <td>0.010339</td>\n",
       "      <td>0.035223</td>\n",
       "      <td>-0.015202</td>\n",
       "    </tr>\n",
       "    <tr>\n",
       "      <th>1</th>\n",
       "      <td>2.29585</td>\n",
       "      <td>8.67686</td>\n",
       "      <td>3.47059</td>\n",
       "      <td>2.35174</td>\n",
       "      <td>8.62679</td>\n",
       "      <td>3.80806</td>\n",
       "      <td>-0.049142</td>\n",
       "      <td>-0.038741</td>\n",
       "      <td>-0.020873</td>\n",
       "      <td>2.35404</td>\n",
       "      <td>...</td>\n",
       "      <td>-0.013361</td>\n",
       "      <td>2.55984</td>\n",
       "      <td>8.78830</td>\n",
       "      <td>3.43568</td>\n",
       "      <td>2.69787</td>\n",
       "      <td>8.68458</td>\n",
       "      <td>3.68677</td>\n",
       "      <td>0.169545</td>\n",
       "      <td>-0.045680</td>\n",
       "      <td>-0.018241</td>\n",
       "    </tr>\n",
       "    <tr>\n",
       "      <th>2</th>\n",
       "      <td>2.87239</td>\n",
       "      <td>9.23323</td>\n",
       "      <td>2.55365</td>\n",
       "      <td>2.96491</td>\n",
       "      <td>9.14991</td>\n",
       "      <td>2.70393</td>\n",
       "      <td>-0.430040</td>\n",
       "      <td>0.862167</td>\n",
       "      <td>0.438581</td>\n",
       "      <td>2.98622</td>\n",
       "      <td>...</td>\n",
       "      <td>0.147539</td>\n",
       "      <td>4.19693</td>\n",
       "      <td>7.59499</td>\n",
       "      <td>2.96389</td>\n",
       "      <td>4.31043</td>\n",
       "      <td>7.46421</td>\n",
       "      <td>3.09887</td>\n",
       "      <td>0.213801</td>\n",
       "      <td>0.629110</td>\n",
       "      <td>-0.319256</td>\n",
       "    </tr>\n",
       "    <tr>\n",
       "      <th>3</th>\n",
       "      <td>3.09022</td>\n",
       "      <td>9.35263</td>\n",
       "      <td>3.36474</td>\n",
       "      <td>3.01691</td>\n",
       "      <td>9.21065</td>\n",
       "      <td>3.45878</td>\n",
       "      <td>-0.132352</td>\n",
       "      <td>-0.150542</td>\n",
       "      <td>-0.018884</td>\n",
       "      <td>2.94067</td>\n",
       "      <td>...</td>\n",
       "      <td>0.078498</td>\n",
       "      <td>2.29229</td>\n",
       "      <td>8.79936</td>\n",
       "      <td>4.43231</td>\n",
       "      <td>2.38958</td>\n",
       "      <td>8.95931</td>\n",
       "      <td>4.39622</td>\n",
       "      <td>-0.462191</td>\n",
       "      <td>0.016133</td>\n",
       "      <td>0.049036</td>\n",
       "    </tr>\n",
       "    <tr>\n",
       "      <th>4</th>\n",
       "      <td>2.87017</td>\n",
       "      <td>8.97734</td>\n",
       "      <td>3.63213</td>\n",
       "      <td>2.97282</td>\n",
       "      <td>9.06021</td>\n",
       "      <td>3.74607</td>\n",
       "      <td>-0.126235</td>\n",
       "      <td>0.030481</td>\n",
       "      <td>-0.038864</td>\n",
       "      <td>3.12614</td>\n",
       "      <td>...</td>\n",
       "      <td>-0.288542</td>\n",
       "      <td>2.06805</td>\n",
       "      <td>8.52686</td>\n",
       "      <td>3.46768</td>\n",
       "      <td>2.18459</td>\n",
       "      <td>8.68819</td>\n",
       "      <td>3.58158</td>\n",
       "      <td>-0.372702</td>\n",
       "      <td>0.114139</td>\n",
       "      <td>-0.001781</td>\n",
       "    </tr>\n",
       "  </tbody>\n",
       "</table>\n",
       "<p>5 rows × 108 columns</p>\n",
       "</div>"
      ],
      "text/plain": [
       "         1        2        3        4        5        6         7         8  \\\n",
       "0  2.37223  8.60074  3.51048  2.43954  8.76165  3.35465 -0.092217  0.056812   \n",
       "1  2.29585  8.67686  3.47059  2.35174  8.62679  3.80806 -0.049142 -0.038741   \n",
       "2  2.87239  9.23323  2.55365  2.96491  9.14991  2.70393 -0.430040  0.862167   \n",
       "3  3.09022  9.35263  3.36474  3.01691  9.21065  3.45878 -0.132352 -0.150542   \n",
       "4  2.87017  8.97734  3.63213  2.97282  9.06021  3.74607 -0.126235  0.030481   \n",
       "\n",
       "          9       13  ...       129      133      134      135      136  \\\n",
       "0 -0.015845  2.44647  ...  0.029452  2.86750  8.97667  3.55511  2.92381   \n",
       "1 -0.020873  2.35404  ... -0.013361  2.55984  8.78830  3.43568  2.69787   \n",
       "2  0.438581  2.98622  ...  0.147539  4.19693  7.59499  2.96389  4.31043   \n",
       "3 -0.018884  2.94067  ...  0.078498  2.29229  8.79936  4.43231  2.38958   \n",
       "4 -0.038864  3.12614  ... -0.288542  2.06805  8.52686  3.46768  2.18459   \n",
       "\n",
       "       137      138       139       140       141  \n",
       "0  8.78856  3.56551  0.010339  0.035223 -0.015202  \n",
       "1  8.68458  3.68677  0.169545 -0.045680 -0.018241  \n",
       "2  7.46421  3.09887  0.213801  0.629110 -0.319256  \n",
       "3  8.95931  4.39622 -0.462191  0.016133  0.049036  \n",
       "4  8.68819  3.58158 -0.372702  0.114139 -0.001781  \n",
       "\n",
       "[5 rows x 108 columns]"
      ]
     },
     "execution_count": 35,
     "metadata": {},
     "output_type": "execute_result"
    }
   ],
   "source": [
    "X.head(5)"
   ]
  },
  {
   "cell_type": "code",
   "execution_count": 36,
   "id": "6b997028-2875-4a80-921b-ccdb8215324e",
   "metadata": {},
   "outputs": [],
   "source": [
    "X_train, X_test, y_train, y_test = train_test_split(X,y,random_state=RANDOM_STATE, test_size=0.20)"
   ]
  },
  {
   "cell_type": "code",
   "execution_count": 37,
   "id": "6c647471-0e4a-4775-aa80-483831dc7425",
   "metadata": {},
   "outputs": [
    {
     "name": "stdout",
     "output_type": "stream",
     "text": [
      "accuracy = 0.7609\n"
     ]
    }
   ],
   "source": [
    "dt = DecisionTreeClassifier(random_state=RANDOM_STATE)\n",
    "dt.fit(X_train,y_train)\n",
    "\n",
    "y_pred = dt.predict(X_test)\n",
    "\n",
    "accuracy = dt.score(X_test, y_test)\n",
    "\n",
    "print(\"accuracy = {:.4f}\".format(accuracy))"
   ]
  },
  {
   "cell_type": "code",
   "execution_count": 38,
   "id": "5b12bf67-14f7-4209-8ff0-4a7039c7f7be",
   "metadata": {},
   "outputs": [
    {
     "data": {
      "text/plain": [
       "<sklearn.metrics._plot.confusion_matrix.ConfusionMatrixDisplay at 0x2060945c820>"
      ]
     },
     "execution_count": 38,
     "metadata": {},
     "output_type": "execute_result"
    },
    {
     "data": {
      "image/png": "[encoded data removed]",
      "text/plain": [
       "<Figure size 432x288 with 2 Axes>"
      ]
     },
     "metadata": {
      "needs_background": "light"
     },
     "output_type": "display_data"
    }
   ],
   "source": [
    "ConfusionMatrixDisplay.from_predictions(y_test, y_pred)"
   ]
  },
  {
   "cell_type": "markdown",
   "id": "44a7687e-663c-4e0e-913e-79878027f92a",
   "metadata": {
    "tags": []
   },
   "source": [
    "### Removed gyroscope data"
   ]
  },
  {
   "cell_type": "code",
   "execution_count": 39,
   "id": "4cc9c7ea-9f67-4dfc-8101-0da9ff419bbe",
   "metadata": {},
   "outputs": [],
   "source": [
    "X = dataframe.drop('0', axis=1)\n",
    "y = dataframe['0']"
   ]
  },
  {
   "cell_type": "code",
   "execution_count": 40,
   "id": "d5309515-f4be-43de-b0d9-1279d7af0392",
   "metadata": {},
   "outputs": [],
   "source": [
    "gyroscope_cols = []\n",
    "for i in range(7, X.shape[1], 12):\n",
    "    gyroscope_cols.append(str(i))\n",
    "    gyroscope_cols.append(str(i+1))\n",
    "    gyroscope_cols.append(str(i+2))"
   ]
  },
  {
   "cell_type": "code",
   "execution_count": 41,
   "id": "8fa7d719-c591-4be4-ab95-b775957ee8de",
   "metadata": {},
   "outputs": [],
   "source": [
    "X = X.drop(gyroscope_cols, axis=1)"
   ]
  },
  {
   "cell_type": "code",
   "execution_count": 42,
   "id": "39819a4b-d008-4a34-ae46-ba4d07b4d2df",
   "metadata": {},
   "outputs": [
    {
     "data": {
      "text/html": [
       "<div>\n",
       "<style scoped>\n",
       "    .dataframe tbody tr th:only-of-type {\n",
       "        vertical-align: middle;\n",
       "    }\n",
       "\n",
       "    .dataframe tbody tr th {\n",
       "        vertical-align: top;\n",
       "    }\n",
       "\n",
       "    .dataframe thead th {\n",
       "        text-align: right;\n",
       "    }\n",
       "</style>\n",
       "<table border=\"1\" class=\"dataframe\">\n",
       "  <thead>\n",
       "    <tr style=\"text-align: right;\">\n",
       "      <th></th>\n",
       "      <th>1</th>\n",
       "      <th>2</th>\n",
       "      <th>3</th>\n",
       "      <th>4</th>\n",
       "      <th>5</th>\n",
       "      <th>6</th>\n",
       "      <th>10</th>\n",
       "      <th>11</th>\n",
       "      <th>12</th>\n",
       "      <th>13</th>\n",
       "      <th>...</th>\n",
       "      <th>132</th>\n",
       "      <th>133</th>\n",
       "      <th>134</th>\n",
       "      <th>135</th>\n",
       "      <th>136</th>\n",
       "      <th>137</th>\n",
       "      <th>138</th>\n",
       "      <th>142</th>\n",
       "      <th>143</th>\n",
       "      <th>144</th>\n",
       "    </tr>\n",
       "  </thead>\n",
       "  <tbody>\n",
       "    <tr>\n",
       "      <th>0</th>\n",
       "      <td>2.37223</td>\n",
       "      <td>8.60074</td>\n",
       "      <td>3.51048</td>\n",
       "      <td>2.43954</td>\n",
       "      <td>8.76165</td>\n",
       "      <td>3.35465</td>\n",
       "      <td>14.68060</td>\n",
       "      <td>-69.2128</td>\n",
       "      <td>-5.589050</td>\n",
       "      <td>2.44647</td>\n",
       "      <td>...</td>\n",
       "      <td>-2.94732</td>\n",
       "      <td>2.86750</td>\n",
       "      <td>8.97667</td>\n",
       "      <td>3.55511</td>\n",
       "      <td>2.92381</td>\n",
       "      <td>8.78856</td>\n",
       "      <td>3.56551</td>\n",
       "      <td>4.01899</td>\n",
       "      <td>-70.8092</td>\n",
       "      <td>-2.590940</td>\n",
       "    </tr>\n",
       "    <tr>\n",
       "      <th>1</th>\n",
       "      <td>2.29585</td>\n",
       "      <td>8.67686</td>\n",
       "      <td>3.47059</td>\n",
       "      <td>2.35174</td>\n",
       "      <td>8.62679</td>\n",
       "      <td>3.80806</td>\n",
       "      <td>14.65590</td>\n",
       "      <td>-69.0862</td>\n",
       "      <td>-6.860420</td>\n",
       "      <td>2.35404</td>\n",
       "      <td>...</td>\n",
       "      <td>-4.10606</td>\n",
       "      <td>2.55984</td>\n",
       "      <td>8.78830</td>\n",
       "      <td>3.43568</td>\n",
       "      <td>2.69787</td>\n",
       "      <td>8.68458</td>\n",
       "      <td>3.68677</td>\n",
       "      <td>5.23624</td>\n",
       "      <td>-71.5280</td>\n",
       "      <td>-2.959810</td>\n",
       "    </tr>\n",
       "    <tr>\n",
       "      <th>2</th>\n",
       "      <td>2.87239</td>\n",
       "      <td>9.23323</td>\n",
       "      <td>2.55365</td>\n",
       "      <td>2.96491</td>\n",
       "      <td>9.14991</td>\n",
       "      <td>2.70393</td>\n",
       "      <td>6.74787</td>\n",
       "      <td>-71.2189</td>\n",
       "      <td>0.035156</td>\n",
       "      <td>2.98622</td>\n",
       "      <td>...</td>\n",
       "      <td>-1.66824</td>\n",
       "      <td>4.19693</td>\n",
       "      <td>7.59499</td>\n",
       "      <td>2.96389</td>\n",
       "      <td>4.31043</td>\n",
       "      <td>7.46421</td>\n",
       "      <td>3.09887</td>\n",
       "      <td>9.08985</td>\n",
       "      <td>-68.9533</td>\n",
       "      <td>-0.545889</td>\n",
       "    </tr>\n",
       "    <tr>\n",
       "      <th>3</th>\n",
       "      <td>3.09022</td>\n",
       "      <td>9.35263</td>\n",
       "      <td>3.36474</td>\n",
       "      <td>3.01691</td>\n",
       "      <td>9.21065</td>\n",
       "      <td>3.45878</td>\n",
       "      <td>3.88699</td>\n",
       "      <td>-71.7704</td>\n",
       "      <td>-3.409880</td>\n",
       "      <td>2.94067</td>\n",
       "      <td>...</td>\n",
       "      <td>-3.22523</td>\n",
       "      <td>2.29229</td>\n",
       "      <td>8.79936</td>\n",
       "      <td>4.43231</td>\n",
       "      <td>2.38958</td>\n",
       "      <td>8.95931</td>\n",
       "      <td>4.39622</td>\n",
       "      <td>8.32884</td>\n",
       "      <td>-69.3952</td>\n",
       "      <td>-5.055360</td>\n",
       "    </tr>\n",
       "    <tr>\n",
       "      <th>4</th>\n",
       "      <td>2.87017</td>\n",
       "      <td>8.97734</td>\n",
       "      <td>3.63213</td>\n",
       "      <td>2.97282</td>\n",
       "      <td>9.06021</td>\n",
       "      <td>3.74607</td>\n",
       "      <td>4.89423</td>\n",
       "      <td>-71.6125</td>\n",
       "      <td>-3.303990</td>\n",
       "      <td>3.12614</td>\n",
       "      <td>...</td>\n",
       "      <td>-5.92542</td>\n",
       "      <td>2.06805</td>\n",
       "      <td>8.52686</td>\n",
       "      <td>3.46768</td>\n",
       "      <td>2.18459</td>\n",
       "      <td>8.68819</td>\n",
       "      <td>3.58158</td>\n",
       "      <td>15.90850</td>\n",
       "      <td>-69.6117</td>\n",
       "      <td>-5.491680</td>\n",
       "    </tr>\n",
       "  </tbody>\n",
       "</table>\n",
       "<p>5 rows × 108 columns</p>\n",
       "</div>"
      ],
      "text/plain": [
       "         1        2        3        4        5        6        10       11  \\\n",
       "0  2.37223  8.60074  3.51048  2.43954  8.76165  3.35465  14.68060 -69.2128   \n",
       "1  2.29585  8.67686  3.47059  2.35174  8.62679  3.80806  14.65590 -69.0862   \n",
       "2  2.87239  9.23323  2.55365  2.96491  9.14991  2.70393   6.74787 -71.2189   \n",
       "3  3.09022  9.35263  3.36474  3.01691  9.21065  3.45878   3.88699 -71.7704   \n",
       "4  2.87017  8.97734  3.63213  2.97282  9.06021  3.74607   4.89423 -71.6125   \n",
       "\n",
       "         12       13  ...      132      133      134      135      136  \\\n",
       "0 -5.589050  2.44647  ... -2.94732  2.86750  8.97667  3.55511  2.92381   \n",
       "1 -6.860420  2.35404  ... -4.10606  2.55984  8.78830  3.43568  2.69787   \n",
       "2  0.035156  2.98622  ... -1.66824  4.19693  7.59499  2.96389  4.31043   \n",
       "3 -3.409880  2.94067  ... -3.22523  2.29229  8.79936  4.43231  2.38958   \n",
       "4 -3.303990  3.12614  ... -5.92542  2.06805  8.52686  3.46768  2.18459   \n",
       "\n",
       "       137      138       142      143       144  \n",
       "0  8.78856  3.56551   4.01899 -70.8092 -2.590940  \n",
       "1  8.68458  3.68677   5.23624 -71.5280 -2.959810  \n",
       "2  7.46421  3.09887   9.08985 -68.9533 -0.545889  \n",
       "3  8.95931  4.39622   8.32884 -69.3952 -5.055360  \n",
       "4  8.68819  3.58158  15.90850 -69.6117 -5.491680  \n",
       "\n",
       "[5 rows x 108 columns]"
      ]
     },
     "execution_count": 42,
     "metadata": {},
     "output_type": "execute_result"
    }
   ],
   "source": [
    "X.head(5)"
   ]
  },
  {
   "cell_type": "code",
   "execution_count": 43,
   "id": "98064970-1389-4705-affc-aa0b7d4e986e",
   "metadata": {},
   "outputs": [],
   "source": [
    "X_train, X_test, y_train, y_test = train_test_split(X,y,random_state=RANDOM_STATE, test_size=0.20)"
   ]
  },
  {
   "cell_type": "code",
   "execution_count": 44,
   "id": "76bf4938-e155-441f-a213-5e46536602c1",
   "metadata": {},
   "outputs": [
    {
     "name": "stdout",
     "output_type": "stream",
     "text": [
      "accuracy = 0.8466\n"
     ]
    }
   ],
   "source": [
    "dt = DecisionTreeClassifier(random_state=RANDOM_STATE)\n",
    "dt.fit(X_train,y_train)\n",
    "\n",
    "y_pred = dt.predict(X_test)\n",
    "\n",
    "accuracy = dt.score(X_test, y_test)\n",
    "\n",
    "print(\"accuracy = {:.4f}\".format(accuracy))"
   ]
  },
  {
   "cell_type": "code",
   "execution_count": 45,
   "id": "8e79d096-488a-4dde-a6ea-27d7ee3df068",
   "metadata": {},
   "outputs": [
    {
     "data": {
      "text/plain": [
       "<sklearn.metrics._plot.confusion_matrix.ConfusionMatrixDisplay at 0x2060933a670>"
      ]
     },
     "execution_count": 45,
     "metadata": {},
     "output_type": "execute_result"
    },
    {
     "data": {
      "image/png": "[encoded data removed]",
      "text/plain": [
       "<Figure size 432x288 with 2 Axes>"
      ]
     },
     "metadata": {
      "needs_background": "light"
     },
     "output_type": "display_data"
    }
   ],
   "source": [
    "ConfusionMatrixDisplay.from_predictions(y_test, y_pred)"
   ]
  },
  {
   "cell_type": "markdown",
   "id": "2a761c9b-8a48-4f1c-967a-207552b74768",
   "metadata": {
    "tags": []
   },
   "source": [
    "### Removed magnetometer and gyroscope data"
   ]
  },
  {
   "cell_type": "code",
   "execution_count": 46,
   "id": "46c0f052-8b56-40f3-a0ab-609837251b4a",
   "metadata": {},
   "outputs": [],
   "source": [
    "X = dataframe.drop('0', axis=1)\n",
    "y = dataframe['0']"
   ]
  },
  {
   "cell_type": "code",
   "execution_count": 47,
   "id": "66113029-9f87-4c0c-a0d9-e38682ed598a",
   "metadata": {},
   "outputs": [],
   "source": [
    "X = X.drop(magnetometer_cols, axis=1)\n",
    "X = X.drop(gyroscope_cols, axis=1)"
   ]
  },
  {
   "cell_type": "code",
   "execution_count": 48,
   "id": "b91db7e1-77b6-4bc1-be02-5132fcf65d1e",
   "metadata": {},
   "outputs": [
    {
     "data": {
      "text/html": [
       "<div>\n",
       "<style scoped>\n",
       "    .dataframe tbody tr th:only-of-type {\n",
       "        vertical-align: middle;\n",
       "    }\n",
       "\n",
       "    .dataframe tbody tr th {\n",
       "        vertical-align: top;\n",
       "    }\n",
       "\n",
       "    .dataframe thead th {\n",
       "        text-align: right;\n",
       "    }\n",
       "</style>\n",
       "<table border=\"1\" class=\"dataframe\">\n",
       "  <thead>\n",
       "    <tr style=\"text-align: right;\">\n",
       "      <th></th>\n",
       "      <th>1</th>\n",
       "      <th>2</th>\n",
       "      <th>3</th>\n",
       "      <th>4</th>\n",
       "      <th>5</th>\n",
       "      <th>6</th>\n",
       "      <th>13</th>\n",
       "      <th>14</th>\n",
       "      <th>15</th>\n",
       "      <th>16</th>\n",
       "      <th>...</th>\n",
       "      <th>123</th>\n",
       "      <th>124</th>\n",
       "      <th>125</th>\n",
       "      <th>126</th>\n",
       "      <th>133</th>\n",
       "      <th>134</th>\n",
       "      <th>135</th>\n",
       "      <th>136</th>\n",
       "      <th>137</th>\n",
       "      <th>138</th>\n",
       "    </tr>\n",
       "  </thead>\n",
       "  <tbody>\n",
       "    <tr>\n",
       "      <th>0</th>\n",
       "      <td>2.37223</td>\n",
       "      <td>8.60074</td>\n",
       "      <td>3.51048</td>\n",
       "      <td>2.43954</td>\n",
       "      <td>8.76165</td>\n",
       "      <td>3.35465</td>\n",
       "      <td>2.44647</td>\n",
       "      <td>8.97854</td>\n",
       "      <td>3.39485</td>\n",
       "      <td>2.44295</td>\n",
       "      <td>...</td>\n",
       "      <td>3.51824</td>\n",
       "      <td>2.92116</td>\n",
       "      <td>8.60722</td>\n",
       "      <td>3.43000</td>\n",
       "      <td>2.86750</td>\n",
       "      <td>8.97667</td>\n",
       "      <td>3.55511</td>\n",
       "      <td>2.92381</td>\n",
       "      <td>8.78856</td>\n",
       "      <td>3.56551</td>\n",
       "    </tr>\n",
       "    <tr>\n",
       "      <th>1</th>\n",
       "      <td>2.29585</td>\n",
       "      <td>8.67686</td>\n",
       "      <td>3.47059</td>\n",
       "      <td>2.35174</td>\n",
       "      <td>8.62679</td>\n",
       "      <td>3.80806</td>\n",
       "      <td>2.35404</td>\n",
       "      <td>9.05064</td>\n",
       "      <td>2.89289</td>\n",
       "      <td>2.63371</td>\n",
       "      <td>...</td>\n",
       "      <td>3.36618</td>\n",
       "      <td>3.13621</td>\n",
       "      <td>9.10403</td>\n",
       "      <td>3.41359</td>\n",
       "      <td>2.55984</td>\n",
       "      <td>8.78830</td>\n",
       "      <td>3.43568</td>\n",
       "      <td>2.69787</td>\n",
       "      <td>8.68458</td>\n",
       "      <td>3.68677</td>\n",
       "    </tr>\n",
       "    <tr>\n",
       "      <th>2</th>\n",
       "      <td>2.87239</td>\n",
       "      <td>9.23323</td>\n",
       "      <td>2.55365</td>\n",
       "      <td>2.96491</td>\n",
       "      <td>9.14991</td>\n",
       "      <td>2.70393</td>\n",
       "      <td>2.98622</td>\n",
       "      <td>8.78778</td>\n",
       "      <td>3.74997</td>\n",
       "      <td>2.80968</td>\n",
       "      <td>...</td>\n",
       "      <td>3.35060</td>\n",
       "      <td>2.26439</td>\n",
       "      <td>9.27655</td>\n",
       "      <td>3.51981</td>\n",
       "      <td>4.19693</td>\n",
       "      <td>7.59499</td>\n",
       "      <td>2.96389</td>\n",
       "      <td>4.31043</td>\n",
       "      <td>7.46421</td>\n",
       "      <td>3.09887</td>\n",
       "    </tr>\n",
       "    <tr>\n",
       "      <th>3</th>\n",
       "      <td>3.09022</td>\n",
       "      <td>9.35263</td>\n",
       "      <td>3.36474</td>\n",
       "      <td>3.01691</td>\n",
       "      <td>9.21065</td>\n",
       "      <td>3.45878</td>\n",
       "      <td>2.94067</td>\n",
       "      <td>8.82399</td>\n",
       "      <td>3.51824</td>\n",
       "      <td>2.92116</td>\n",
       "      <td>...</td>\n",
       "      <td>3.81909</td>\n",
       "      <td>2.32450</td>\n",
       "      <td>8.70275</td>\n",
       "      <td>4.07973</td>\n",
       "      <td>2.29229</td>\n",
       "      <td>8.79936</td>\n",
       "      <td>4.43231</td>\n",
       "      <td>2.38958</td>\n",
       "      <td>8.95931</td>\n",
       "      <td>4.39622</td>\n",
       "    </tr>\n",
       "    <tr>\n",
       "      <th>4</th>\n",
       "      <td>2.87017</td>\n",
       "      <td>8.97734</td>\n",
       "      <td>3.63213</td>\n",
       "      <td>2.97282</td>\n",
       "      <td>9.06021</td>\n",
       "      <td>3.74607</td>\n",
       "      <td>3.12614</td>\n",
       "      <td>9.08677</td>\n",
       "      <td>3.36618</td>\n",
       "      <td>3.13621</td>\n",
       "      <td>...</td>\n",
       "      <td>2.91330</td>\n",
       "      <td>1.64884</td>\n",
       "      <td>10.17140</td>\n",
       "      <td>2.89935</td>\n",
       "      <td>2.06805</td>\n",
       "      <td>8.52686</td>\n",
       "      <td>3.46768</td>\n",
       "      <td>2.18459</td>\n",
       "      <td>8.68819</td>\n",
       "      <td>3.58158</td>\n",
       "    </tr>\n",
       "  </tbody>\n",
       "</table>\n",
       "<p>5 rows × 72 columns</p>\n",
       "</div>"
      ],
      "text/plain": [
       "         1        2        3        4        5        6       13       14  \\\n",
       "0  2.37223  8.60074  3.51048  2.43954  8.76165  3.35465  2.44647  8.97854   \n",
       "1  2.29585  8.67686  3.47059  2.35174  8.62679  3.80806  2.35404  9.05064   \n",
       "2  2.87239  9.23323  2.55365  2.96491  9.14991  2.70393  2.98622  8.78778   \n",
       "3  3.09022  9.35263  3.36474  3.01691  9.21065  3.45878  2.94067  8.82399   \n",
       "4  2.87017  8.97734  3.63213  2.97282  9.06021  3.74607  3.12614  9.08677   \n",
       "\n",
       "        15       16  ...      123      124       125      126      133  \\\n",
       "0  3.39485  2.44295  ...  3.51824  2.92116   8.60722  3.43000  2.86750   \n",
       "1  2.89289  2.63371  ...  3.36618  3.13621   9.10403  3.41359  2.55984   \n",
       "2  3.74997  2.80968  ...  3.35060  2.26439   9.27655  3.51981  4.19693   \n",
       "3  3.51824  2.92116  ...  3.81909  2.32450   8.70275  4.07973  2.29229   \n",
       "4  3.36618  3.13621  ...  2.91330  1.64884  10.17140  2.89935  2.06805   \n",
       "\n",
       "       134      135      136      137      138  \n",
       "0  8.97667  3.55511  2.92381  8.78856  3.56551  \n",
       "1  8.78830  3.43568  2.69787  8.68458  3.68677  \n",
       "2  7.59499  2.96389  4.31043  7.46421  3.09887  \n",
       "3  8.79936  4.43231  2.38958  8.95931  4.39622  \n",
       "4  8.52686  3.46768  2.18459  8.68819  3.58158  \n",
       "\n",
       "[5 rows x 72 columns]"
      ]
     },
     "execution_count": 48,
     "metadata": {},
     "output_type": "execute_result"
    }
   ],
   "source": [
    "X.head(5)"
   ]
  },
  {
   "cell_type": "code",
   "execution_count": 49,
   "id": "54171f52-2948-4fd4-838c-e48eceed3a61",
   "metadata": {},
   "outputs": [],
   "source": [
    "X_train, X_test, y_train, y_test = train_test_split(X,y,random_state=RANDOM_STATE, test_size=0.20)"
   ]
  },
  {
   "cell_type": "code",
   "execution_count": 50,
   "id": "7ef9d22b-5618-4e18-9291-1b12562261f0",
   "metadata": {},
   "outputs": [
    {
     "name": "stdout",
     "output_type": "stream",
     "text": [
      "accuracy = 0.7754\n"
     ]
    }
   ],
   "source": [
    "dt = DecisionTreeClassifier(random_state=RANDOM_STATE)\n",
    "dt.fit(X_train,y_train)\n",
    "\n",
    "y_pred = dt.predict(X_test)\n",
    "\n",
    "accuracy = dt.score(X_test, y_test)\n",
    "\n",
    "print(\"accuracy = {:.4f}\".format(accuracy))"
   ]
  },
  {
   "cell_type": "code",
   "execution_count": 51,
   "id": "dbc24c66-dde9-4934-a657-4036af9b9806",
   "metadata": {},
   "outputs": [
    {
     "data": {
      "text/plain": [
       "<sklearn.metrics._plot.confusion_matrix.ConfusionMatrixDisplay at 0x20609574d30>"
      ]
     },
     "execution_count": 51,
     "metadata": {},
     "output_type": "execute_result"
    },
    {
     "data": {
      "image/png": "[encoded data removed]",
      "text/plain": [
       "<Figure size 432x288 with 2 Axes>"
      ]
     },
     "metadata": {
      "needs_background": "light"
     },
     "output_type": "display_data"
    }
   ],
   "source": [
    "ConfusionMatrixDisplay.from_predictions(y_test, y_pred)"
   ]
  },
  {
   "cell_type": "markdown",
   "id": "09f2a306-d995-498d-adf1-aae12d543859",
   "metadata": {
    "tags": []
   },
   "source": [
    "### Removed acceleration 4-6 data"
   ]
  },
  {
   "cell_type": "code",
   "execution_count": 52,
   "id": "fcad3177-baa4-43b0-93a8-063bc045b17a",
   "metadata": {},
   "outputs": [],
   "source": [
    "X = dataframe.drop('0', axis=1)\n",
    "y = dataframe['0']"
   ]
  },
  {
   "cell_type": "code",
   "execution_count": 53,
   "id": "6c04e40b-fc3b-4326-8f26-abbae9127591",
   "metadata": {},
   "outputs": [],
   "source": [
    "acc_4_6_cols = []\n",
    "for i in range(4, X.shape[1], 12):\n",
    "    acc_4_6_cols.append(str(i))\n",
    "    acc_4_6_cols.append(str(i+1))\n",
    "    acc_4_6_cols.append(str(i+2))"
   ]
  },
  {
   "cell_type": "code",
   "execution_count": 54,
   "id": "d6d79c23-8f75-41d7-b378-5ef4c157d520",
   "metadata": {},
   "outputs": [],
   "source": [
    "X = X.drop(acc_4_6_cols, axis=1)"
   ]
  },
  {
   "cell_type": "code",
   "execution_count": 55,
   "id": "4aac15f6-c29b-4e68-8e6d-bc8b66c4f7eb",
   "metadata": {},
   "outputs": [
    {
     "data": {
      "text/html": [
       "<div>\n",
       "<style scoped>\n",
       "    .dataframe tbody tr th:only-of-type {\n",
       "        vertical-align: middle;\n",
       "    }\n",
       "\n",
       "    .dataframe tbody tr th {\n",
       "        vertical-align: top;\n",
       "    }\n",
       "\n",
       "    .dataframe thead th {\n",
       "        text-align: right;\n",
       "    }\n",
       "</style>\n",
       "<table border=\"1\" class=\"dataframe\">\n",
       "  <thead>\n",
       "    <tr style=\"text-align: right;\">\n",
       "      <th></th>\n",
       "      <th>1</th>\n",
       "      <th>2</th>\n",
       "      <th>3</th>\n",
       "      <th>7</th>\n",
       "      <th>8</th>\n",
       "      <th>9</th>\n",
       "      <th>10</th>\n",
       "      <th>11</th>\n",
       "      <th>12</th>\n",
       "      <th>13</th>\n",
       "      <th>...</th>\n",
       "      <th>132</th>\n",
       "      <th>133</th>\n",
       "      <th>134</th>\n",
       "      <th>135</th>\n",
       "      <th>139</th>\n",
       "      <th>140</th>\n",
       "      <th>141</th>\n",
       "      <th>142</th>\n",
       "      <th>143</th>\n",
       "      <th>144</th>\n",
       "    </tr>\n",
       "  </thead>\n",
       "  <tbody>\n",
       "    <tr>\n",
       "      <th>0</th>\n",
       "      <td>2.37223</td>\n",
       "      <td>8.60074</td>\n",
       "      <td>3.51048</td>\n",
       "      <td>-0.092217</td>\n",
       "      <td>0.056812</td>\n",
       "      <td>-0.015845</td>\n",
       "      <td>14.68060</td>\n",
       "      <td>-69.2128</td>\n",
       "      <td>-5.589050</td>\n",
       "      <td>2.44647</td>\n",
       "      <td>...</td>\n",
       "      <td>-2.94732</td>\n",
       "      <td>2.86750</td>\n",
       "      <td>8.97667</td>\n",
       "      <td>3.55511</td>\n",
       "      <td>0.010339</td>\n",
       "      <td>0.035223</td>\n",
       "      <td>-0.015202</td>\n",
       "      <td>4.01899</td>\n",
       "      <td>-70.8092</td>\n",
       "      <td>-2.590940</td>\n",
       "    </tr>\n",
       "    <tr>\n",
       "      <th>1</th>\n",
       "      <td>2.29585</td>\n",
       "      <td>8.67686</td>\n",
       "      <td>3.47059</td>\n",
       "      <td>-0.049142</td>\n",
       "      <td>-0.038741</td>\n",
       "      <td>-0.020873</td>\n",
       "      <td>14.65590</td>\n",
       "      <td>-69.0862</td>\n",
       "      <td>-6.860420</td>\n",
       "      <td>2.35404</td>\n",
       "      <td>...</td>\n",
       "      <td>-4.10606</td>\n",
       "      <td>2.55984</td>\n",
       "      <td>8.78830</td>\n",
       "      <td>3.43568</td>\n",
       "      <td>0.169545</td>\n",
       "      <td>-0.045680</td>\n",
       "      <td>-0.018241</td>\n",
       "      <td>5.23624</td>\n",
       "      <td>-71.5280</td>\n",
       "      <td>-2.959810</td>\n",
       "    </tr>\n",
       "    <tr>\n",
       "      <th>2</th>\n",
       "      <td>2.87239</td>\n",
       "      <td>9.23323</td>\n",
       "      <td>2.55365</td>\n",
       "      <td>-0.430040</td>\n",
       "      <td>0.862167</td>\n",
       "      <td>0.438581</td>\n",
       "      <td>6.74787</td>\n",
       "      <td>-71.2189</td>\n",
       "      <td>0.035156</td>\n",
       "      <td>2.98622</td>\n",
       "      <td>...</td>\n",
       "      <td>-1.66824</td>\n",
       "      <td>4.19693</td>\n",
       "      <td>7.59499</td>\n",
       "      <td>2.96389</td>\n",
       "      <td>0.213801</td>\n",
       "      <td>0.629110</td>\n",
       "      <td>-0.319256</td>\n",
       "      <td>9.08985</td>\n",
       "      <td>-68.9533</td>\n",
       "      <td>-0.545889</td>\n",
       "    </tr>\n",
       "    <tr>\n",
       "      <th>3</th>\n",
       "      <td>3.09022</td>\n",
       "      <td>9.35263</td>\n",
       "      <td>3.36474</td>\n",
       "      <td>-0.132352</td>\n",
       "      <td>-0.150542</td>\n",
       "      <td>-0.018884</td>\n",
       "      <td>3.88699</td>\n",
       "      <td>-71.7704</td>\n",
       "      <td>-3.409880</td>\n",
       "      <td>2.94067</td>\n",
       "      <td>...</td>\n",
       "      <td>-3.22523</td>\n",
       "      <td>2.29229</td>\n",
       "      <td>8.79936</td>\n",
       "      <td>4.43231</td>\n",
       "      <td>-0.462191</td>\n",
       "      <td>0.016133</td>\n",
       "      <td>0.049036</td>\n",
       "      <td>8.32884</td>\n",
       "      <td>-69.3952</td>\n",
       "      <td>-5.055360</td>\n",
       "    </tr>\n",
       "    <tr>\n",
       "      <th>4</th>\n",
       "      <td>2.87017</td>\n",
       "      <td>8.97734</td>\n",
       "      <td>3.63213</td>\n",
       "      <td>-0.126235</td>\n",
       "      <td>0.030481</td>\n",
       "      <td>-0.038864</td>\n",
       "      <td>4.89423</td>\n",
       "      <td>-71.6125</td>\n",
       "      <td>-3.303990</td>\n",
       "      <td>3.12614</td>\n",
       "      <td>...</td>\n",
       "      <td>-5.92542</td>\n",
       "      <td>2.06805</td>\n",
       "      <td>8.52686</td>\n",
       "      <td>3.46768</td>\n",
       "      <td>-0.372702</td>\n",
       "      <td>0.114139</td>\n",
       "      <td>-0.001781</td>\n",
       "      <td>15.90850</td>\n",
       "      <td>-69.6117</td>\n",
       "      <td>-5.491680</td>\n",
       "    </tr>\n",
       "  </tbody>\n",
       "</table>\n",
       "<p>5 rows × 108 columns</p>\n",
       "</div>"
      ],
      "text/plain": [
       "         1        2        3         7         8         9        10       11  \\\n",
       "0  2.37223  8.60074  3.51048 -0.092217  0.056812 -0.015845  14.68060 -69.2128   \n",
       "1  2.29585  8.67686  3.47059 -0.049142 -0.038741 -0.020873  14.65590 -69.0862   \n",
       "2  2.87239  9.23323  2.55365 -0.430040  0.862167  0.438581   6.74787 -71.2189   \n",
       "3  3.09022  9.35263  3.36474 -0.132352 -0.150542 -0.018884   3.88699 -71.7704   \n",
       "4  2.87017  8.97734  3.63213 -0.126235  0.030481 -0.038864   4.89423 -71.6125   \n",
       "\n",
       "         12       13  ...      132      133      134      135       139  \\\n",
       "0 -5.589050  2.44647  ... -2.94732  2.86750  8.97667  3.55511  0.010339   \n",
       "1 -6.860420  2.35404  ... -4.10606  2.55984  8.78830  3.43568  0.169545   \n",
       "2  0.035156  2.98622  ... -1.66824  4.19693  7.59499  2.96389  0.213801   \n",
       "3 -3.409880  2.94067  ... -3.22523  2.29229  8.79936  4.43231 -0.462191   \n",
       "4 -3.303990  3.12614  ... -5.92542  2.06805  8.52686  3.46768 -0.372702   \n",
       "\n",
       "        140       141       142      143       144  \n",
       "0  0.035223 -0.015202   4.01899 -70.8092 -2.590940  \n",
       "1 -0.045680 -0.018241   5.23624 -71.5280 -2.959810  \n",
       "2  0.629110 -0.319256   9.08985 -68.9533 -0.545889  \n",
       "3  0.016133  0.049036   8.32884 -69.3952 -5.055360  \n",
       "4  0.114139 -0.001781  15.90850 -69.6117 -5.491680  \n",
       "\n",
       "[5 rows x 108 columns]"
      ]
     },
     "execution_count": 55,
     "metadata": {},
     "output_type": "execute_result"
    }
   ],
   "source": [
    "X.head(5)"
   ]
  },
  {
   "cell_type": "code",
   "execution_count": 56,
   "id": "dce9173a-35a4-4b50-b145-90664fb2da43",
   "metadata": {},
   "outputs": [],
   "source": [
    "X_train, X_test, y_train, y_test = train_test_split(X,y,random_state=RANDOM_STATE, test_size=0.20)"
   ]
  },
  {
   "cell_type": "code",
   "execution_count": 57,
   "id": "a8f71fd3-e159-4516-b109-d69d98babe33",
   "metadata": {},
   "outputs": [
    {
     "name": "stdout",
     "output_type": "stream",
     "text": [
      "accuracy = 0.8502\n"
     ]
    }
   ],
   "source": [
    "dt = DecisionTreeClassifier(random_state=RANDOM_STATE)\n",
    "dt.fit(X_train,y_train)\n",
    "\n",
    "y_pred = dt.predict(X_test)\n",
    "\n",
    "accuracy = dt.score(X_test, y_test)\n",
    "\n",
    "print(\"accuracy = {:.4f}\".format(accuracy))"
   ]
  },
  {
   "cell_type": "code",
   "execution_count": 58,
   "id": "9b730667-9819-4ed5-ba21-b07d23001f94",
   "metadata": {},
   "outputs": [
    {
     "data": {
      "text/plain": [
       "<sklearn.metrics._plot.confusion_matrix.ConfusionMatrixDisplay at 0x20608382520>"
      ]
     },
     "execution_count": 58,
     "metadata": {},
     "output_type": "execute_result"
    },
    {
     "data": {
      "image/png": "[encoded data removed]",
      "text/plain": [
       "<Figure size 432x288 with 2 Axes>"
      ]
     },
     "metadata": {
      "needs_background": "light"
     },
     "output_type": "display_data"
    }
   ],
   "source": [
    "ConfusionMatrixDisplay.from_predictions(y_test, y_pred)"
   ]
  },
  {
   "cell_type": "markdown",
   "id": "02e3ef98-7059-4d35-8115-1e28e5bab1fd",
   "metadata": {
    "tags": []
   },
   "source": [
    "#### Oversampling"
   ]
  },
  {
   "cell_type": "code",
   "execution_count": 59,
   "id": "9309dd16-7fd2-4c18-bf37-d6952e783f47",
   "metadata": {},
   "outputs": [],
   "source": [
    "oversample = SMOTE(random_state=RANDOM_STATE)\n",
    "\n",
    "X_train_ov, y_train_ov = oversample.fit_resample(X_train, y_train)"
   ]
  },
  {
   "cell_type": "code",
   "execution_count": 60,
   "id": "66e74fcf-495d-4361-bef4-bf9d85cfa4d3",
   "metadata": {},
   "outputs": [
    {
     "name": "stdout",
     "output_type": "stream",
     "text": [
      "accuracy = 0.8324\n"
     ]
    }
   ],
   "source": [
    "dt = DecisionTreeClassifier(random_state=RANDOM_STATE)\n",
    "dt.fit(X_train_ov,y_train_ov)\n",
    "\n",
    "y_pred = dt.predict(X_test)\n",
    "\n",
    "accuracy = dt.score(X_test, y_test)\n",
    "\n",
    "print(\"accuracy = {:.4f}\".format(accuracy))"
   ]
  },
  {
   "cell_type": "code",
   "execution_count": 61,
   "id": "241050c1-7427-4a9d-b483-71109cefb26b",
   "metadata": {},
   "outputs": [
    {
     "data": {
      "text/plain": [
       "<sklearn.metrics._plot.confusion_matrix.ConfusionMatrixDisplay at 0x206083a71c0>"
      ]
     },
     "execution_count": 61,
     "metadata": {},
     "output_type": "execute_result"
    },
    {
     "data": {
      "image/png": "[encoded data removed]",
      "text/plain": [
       "<Figure size 432x288 with 2 Axes>"
      ]
     },
     "metadata": {
      "needs_background": "light"
     },
     "output_type": "display_data"
    }
   ],
   "source": [
    "ConfusionMatrixDisplay.from_predictions(y_test, y_pred)"
   ]
  },
  {
   "cell_type": "code",
   "execution_count": 62,
   "id": "312f63b2-41c9-4d91-87b8-4ff47c6c2720",
   "metadata": {},
   "outputs": [],
   "source": [
    "oversample = RandomOverSampler(random_state=RANDOM_STATE)\n",
    "\n",
    "X_train_ov, y_train_ov = oversample.fit_resample(X_train, y_train)"
   ]
  },
  {
   "cell_type": "code",
   "execution_count": 63,
   "id": "6f0ec8a4-8179-421c-ad4d-9b9d5844b05a",
   "metadata": {},
   "outputs": [
    {
     "name": "stdout",
     "output_type": "stream",
     "text": [
      "accuracy = 0.8573\n"
     ]
    }
   ],
   "source": [
    "dt = DecisionTreeClassifier(random_state=RANDOM_STATE)\n",
    "dt.fit(X_train_ov,y_train_ov)\n",
    "\n",
    "y_pred = dt.predict(X_test)\n",
    "\n",
    "accuracy = dt.score(X_test, y_test)\n",
    "\n",
    "print(\"accuracy = {:.4f}\".format(accuracy))"
   ]
  },
  {
   "cell_type": "code",
   "execution_count": 64,
   "id": "564e3811-260b-4e1f-abfe-552f592b8489",
   "metadata": {},
   "outputs": [
    {
     "data": {
      "text/plain": [
       "<sklearn.metrics._plot.confusion_matrix.ConfusionMatrixDisplay at 0x20608099c40>"
      ]
     },
     "execution_count": 64,
     "metadata": {},
     "output_type": "execute_result"
    },
    {
     "data": {
      "image/png": "[encoded data removed]",
      "text/plain": [
       "<Figure size 432x288 with 2 Axes>"
      ]
     },
     "metadata": {
      "needs_background": "light"
     },
     "output_type": "display_data"
    }
   ],
   "source": [
    "ConfusionMatrixDisplay.from_predictions(y_test, y_pred)"
   ]
  },
  {
   "cell_type": "markdown",
   "id": "f39e1d99-bfee-476a-ac87-c07663f43c14",
   "metadata": {
    "toc-hr-collapsed": true
   },
   "source": [
    "#### PCA"
   ]
  },
  {
   "cell_type": "code",
   "execution_count": 65,
   "id": "373c569a-3b9d-4b1c-8c30-cfafefdb96c2",
   "metadata": {},
   "outputs": [],
   "source": [
    "pca = PCA(random_state=RANDOM_STATE)"
   ]
  },
  {
   "cell_type": "code",
   "execution_count": 66,
   "id": "1cb3cde8-f0c7-4857-9e56-d47a4e720f47",
   "metadata": {},
   "outputs": [],
   "source": [
    "pca.fit(X_train)\n",
    "\n",
    "explained_variance = pca.explained_variance_ratio_"
   ]
  },
  {
   "cell_type": "code",
   "execution_count": 67,
   "id": "0b8553aa-6d50-4ff9-afde-b411984331fc",
   "metadata": {},
   "outputs": [
    {
     "data": {
      "image/png": "[encoded data removed]",
      "text/plain": [
       "<Figure size 576x576 with 1 Axes>"
      ]
     },
     "metadata": {
      "needs_background": "light"
     },
     "output_type": "display_data"
    }
   ],
   "source": [
    "s = 0\n",
    "for i in range(len(explained_variance)):\n",
    "    s += explained_variance[i]\n",
    "    explained_variance[i] = s\n",
    "    \n",
    "fig = plt.figure(figsize=(8,8))\n",
    "ax = fig.add_subplot()\n",
    "ax.plot(explained_variance)\n",
    "ax.set_xlabel(xlabel='number of components')\n",
    "ax.grid()\n",
    "plt.show()"
   ]
  },
  {
   "cell_type": "code",
   "execution_count": 68,
   "id": "3871d339-a376-4e4a-84d2-f5fd3083b326",
   "metadata": {},
   "outputs": [],
   "source": [
    "N_COMPONENTS = [10, 20, 40, 60]"
   ]
  },
  {
   "cell_type": "code",
   "execution_count": 69,
   "id": "5ded1fe9-1373-42bd-b612-ea3a57f8b9bd",
   "metadata": {},
   "outputs": [
    {
     "name": "stdout",
     "output_type": "stream",
     "text": [
      "=====================================\n",
      "n_components: 10\n",
      "accuracy = 0.8270\n",
      "=====================================\n",
      "n_components: 20\n",
      "accuracy = 0.8534\n",
      "=====================================\n",
      "n_components: 40\n",
      "accuracy = 0.8502\n",
      "=====================================\n",
      "n_components: 60\n",
      "accuracy = 0.8433\n"
     ]
    }
   ],
   "source": [
    "accuracies = []\n",
    "\n",
    "for components in N_COMPONENTS:\n",
    "    dt = DecisionTreeClassifier(random_state=RANDOM_STATE)\n",
    "    \n",
    "    pca = PCA(n_components=components, random_state=RANDOM_STATE)\n",
    "    \n",
    "    pca.fit(X_train)\n",
    "    \n",
    "    dt.fit(pca.transform(X_train),y_train)\n",
    "\n",
    "    y_pred = dt.predict(pca.transform(X_test))\n",
    "\n",
    "    accuracy = dt.score(pca.transform(X_test), y_test)\n",
    "    \n",
    "    accuracies.append(accuracy)\n",
    "    \n",
    "    print(\"=====================================\")\n",
    "    print(\"n_components: {}\".format(components))\n",
    "    print(\"accuracy = {:.4f}\".format(accuracy))"
   ]
  },
  {
   "cell_type": "code",
   "execution_count": 70,
   "id": "95f54328-5c3d-4c7c-a0d8-fe370b6ac1f5",
   "metadata": {},
   "outputs": [
    {
     "data": {
      "image/png": "[encoded data removed]",
      "text/plain": [
       "<Figure size 576x576 with 1 Axes>"
      ]
     },
     "metadata": {
      "needs_background": "light"
     },
     "output_type": "display_data"
    }
   ],
   "source": [
    "plt.figure(figsize=(8,8))\n",
    "x = np.arange(len(N_COMPONENTS))\n",
    "plt.plot(x, accuracies, label=\"accuracy\")\n",
    "plt.xticks(x, N_COMPONENTS)\n",
    "plt.legend()\n",
    "plt.grid()\n",
    "plt.show()"
   ]
  },
  {
   "cell_type": "markdown",
   "id": "ab6334b4-7276-4a12-bebf-de549c7ca8b0",
   "metadata": {
    "tags": []
   },
   "source": [
    "### Removed acceleration 1-3 data"
   ]
  },
  {
   "cell_type": "code",
   "execution_count": 71,
   "id": "39c6b9b0-ade3-40cc-839b-1221c4eb8bb5",
   "metadata": {},
   "outputs": [],
   "source": [
    "X = dataframe.drop('0', axis=1)\n",
    "y = dataframe['0']"
   ]
  },
  {
   "cell_type": "code",
   "execution_count": 72,
   "id": "f36924e6-7792-474c-9125-00cce3a2c3f0",
   "metadata": {},
   "outputs": [],
   "source": [
    "acc_1_3_cols = []\n",
    "for i in range(1, X.shape[1], 12):\n",
    "    acc_1_3_cols.append(str(i))\n",
    "    acc_1_3_cols.append(str(i+1))\n",
    "    acc_1_3_cols.append(str(i+2))"
   ]
  },
  {
   "cell_type": "code",
   "execution_count": 73,
   "id": "e2eef964-4c14-4c69-9d8e-afdf125fcdb4",
   "metadata": {},
   "outputs": [],
   "source": [
    "X = X.drop(acc_1_3_cols, axis=1)"
   ]
  },
  {
   "cell_type": "code",
   "execution_count": 74,
   "id": "20c1811d-163f-47e7-952c-e0dc8ca063ea",
   "metadata": {},
   "outputs": [
    {
     "data": {
      "text/html": [
       "<div>\n",
       "<style scoped>\n",
       "    .dataframe tbody tr th:only-of-type {\n",
       "        vertical-align: middle;\n",
       "    }\n",
       "\n",
       "    .dataframe tbody tr th {\n",
       "        vertical-align: top;\n",
       "    }\n",
       "\n",
       "    .dataframe thead th {\n",
       "        text-align: right;\n",
       "    }\n",
       "</style>\n",
       "<table border=\"1\" class=\"dataframe\">\n",
       "  <thead>\n",
       "    <tr style=\"text-align: right;\">\n",
       "      <th></th>\n",
       "      <th>4</th>\n",
       "      <th>5</th>\n",
       "      <th>6</th>\n",
       "      <th>7</th>\n",
       "      <th>8</th>\n",
       "      <th>9</th>\n",
       "      <th>10</th>\n",
       "      <th>11</th>\n",
       "      <th>12</th>\n",
       "      <th>16</th>\n",
       "      <th>...</th>\n",
       "      <th>132</th>\n",
       "      <th>136</th>\n",
       "      <th>137</th>\n",
       "      <th>138</th>\n",
       "      <th>139</th>\n",
       "      <th>140</th>\n",
       "      <th>141</th>\n",
       "      <th>142</th>\n",
       "      <th>143</th>\n",
       "      <th>144</th>\n",
       "    </tr>\n",
       "  </thead>\n",
       "  <tbody>\n",
       "    <tr>\n",
       "      <th>0</th>\n",
       "      <td>2.43954</td>\n",
       "      <td>8.76165</td>\n",
       "      <td>3.35465</td>\n",
       "      <td>-0.092217</td>\n",
       "      <td>0.056812</td>\n",
       "      <td>-0.015845</td>\n",
       "      <td>14.68060</td>\n",
       "      <td>-69.2128</td>\n",
       "      <td>-5.589050</td>\n",
       "      <td>2.44295</td>\n",
       "      <td>...</td>\n",
       "      <td>-2.94732</td>\n",
       "      <td>2.92381</td>\n",
       "      <td>8.78856</td>\n",
       "      <td>3.56551</td>\n",
       "      <td>0.010339</td>\n",
       "      <td>0.035223</td>\n",
       "      <td>-0.015202</td>\n",
       "      <td>4.01899</td>\n",
       "      <td>-70.8092</td>\n",
       "      <td>-2.590940</td>\n",
       "    </tr>\n",
       "    <tr>\n",
       "      <th>1</th>\n",
       "      <td>2.35174</td>\n",
       "      <td>8.62679</td>\n",
       "      <td>3.80806</td>\n",
       "      <td>-0.049142</td>\n",
       "      <td>-0.038741</td>\n",
       "      <td>-0.020873</td>\n",
       "      <td>14.65590</td>\n",
       "      <td>-69.0862</td>\n",
       "      <td>-6.860420</td>\n",
       "      <td>2.63371</td>\n",
       "      <td>...</td>\n",
       "      <td>-4.10606</td>\n",
       "      <td>2.69787</td>\n",
       "      <td>8.68458</td>\n",
       "      <td>3.68677</td>\n",
       "      <td>0.169545</td>\n",
       "      <td>-0.045680</td>\n",
       "      <td>-0.018241</td>\n",
       "      <td>5.23624</td>\n",
       "      <td>-71.5280</td>\n",
       "      <td>-2.959810</td>\n",
       "    </tr>\n",
       "    <tr>\n",
       "      <th>2</th>\n",
       "      <td>2.96491</td>\n",
       "      <td>9.14991</td>\n",
       "      <td>2.70393</td>\n",
       "      <td>-0.430040</td>\n",
       "      <td>0.862167</td>\n",
       "      <td>0.438581</td>\n",
       "      <td>6.74787</td>\n",
       "      <td>-71.2189</td>\n",
       "      <td>0.035156</td>\n",
       "      <td>2.80968</td>\n",
       "      <td>...</td>\n",
       "      <td>-1.66824</td>\n",
       "      <td>4.31043</td>\n",
       "      <td>7.46421</td>\n",
       "      <td>3.09887</td>\n",
       "      <td>0.213801</td>\n",
       "      <td>0.629110</td>\n",
       "      <td>-0.319256</td>\n",
       "      <td>9.08985</td>\n",
       "      <td>-68.9533</td>\n",
       "      <td>-0.545889</td>\n",
       "    </tr>\n",
       "    <tr>\n",
       "      <th>3</th>\n",
       "      <td>3.01691</td>\n",
       "      <td>9.21065</td>\n",
       "      <td>3.45878</td>\n",
       "      <td>-0.132352</td>\n",
       "      <td>-0.150542</td>\n",
       "      <td>-0.018884</td>\n",
       "      <td>3.88699</td>\n",
       "      <td>-71.7704</td>\n",
       "      <td>-3.409880</td>\n",
       "      <td>2.92116</td>\n",
       "      <td>...</td>\n",
       "      <td>-3.22523</td>\n",
       "      <td>2.38958</td>\n",
       "      <td>8.95931</td>\n",
       "      <td>4.39622</td>\n",
       "      <td>-0.462191</td>\n",
       "      <td>0.016133</td>\n",
       "      <td>0.049036</td>\n",
       "      <td>8.32884</td>\n",
       "      <td>-69.3952</td>\n",
       "      <td>-5.055360</td>\n",
       "    </tr>\n",
       "    <tr>\n",
       "      <th>4</th>\n",
       "      <td>2.97282</td>\n",
       "      <td>9.06021</td>\n",
       "      <td>3.74607</td>\n",
       "      <td>-0.126235</td>\n",
       "      <td>0.030481</td>\n",
       "      <td>-0.038864</td>\n",
       "      <td>4.89423</td>\n",
       "      <td>-71.6125</td>\n",
       "      <td>-3.303990</td>\n",
       "      <td>3.13621</td>\n",
       "      <td>...</td>\n",
       "      <td>-5.92542</td>\n",
       "      <td>2.18459</td>\n",
       "      <td>8.68819</td>\n",
       "      <td>3.58158</td>\n",
       "      <td>-0.372702</td>\n",
       "      <td>0.114139</td>\n",
       "      <td>-0.001781</td>\n",
       "      <td>15.90850</td>\n",
       "      <td>-69.6117</td>\n",
       "      <td>-5.491680</td>\n",
       "    </tr>\n",
       "  </tbody>\n",
       "</table>\n",
       "<p>5 rows × 108 columns</p>\n",
       "</div>"
      ],
      "text/plain": [
       "         4        5        6         7         8         9        10       11  \\\n",
       "0  2.43954  8.76165  3.35465 -0.092217  0.056812 -0.015845  14.68060 -69.2128   \n",
       "1  2.35174  8.62679  3.80806 -0.049142 -0.038741 -0.020873  14.65590 -69.0862   \n",
       "2  2.96491  9.14991  2.70393 -0.430040  0.862167  0.438581   6.74787 -71.2189   \n",
       "3  3.01691  9.21065  3.45878 -0.132352 -0.150542 -0.018884   3.88699 -71.7704   \n",
       "4  2.97282  9.06021  3.74607 -0.126235  0.030481 -0.038864   4.89423 -71.6125   \n",
       "\n",
       "         12       16  ...      132      136      137      138       139  \\\n",
       "0 -5.589050  2.44295  ... -2.94732  2.92381  8.78856  3.56551  0.010339   \n",
       "1 -6.860420  2.63371  ... -4.10606  2.69787  8.68458  3.68677  0.169545   \n",
       "2  0.035156  2.80968  ... -1.66824  4.31043  7.46421  3.09887  0.213801   \n",
       "3 -3.409880  2.92116  ... -3.22523  2.38958  8.95931  4.39622 -0.462191   \n",
       "4 -3.303990  3.13621  ... -5.92542  2.18459  8.68819  3.58158 -0.372702   \n",
       "\n",
       "        140       141       142      143       144  \n",
       "0  0.035223 -0.015202   4.01899 -70.8092 -2.590940  \n",
       "1 -0.045680 -0.018241   5.23624 -71.5280 -2.959810  \n",
       "2  0.629110 -0.319256   9.08985 -68.9533 -0.545889  \n",
       "3  0.016133  0.049036   8.32884 -69.3952 -5.055360  \n",
       "4  0.114139 -0.001781  15.90850 -69.6117 -5.491680  \n",
       "\n",
       "[5 rows x 108 columns]"
      ]
     },
     "execution_count": 74,
     "metadata": {},
     "output_type": "execute_result"
    }
   ],
   "source": [
    "X.head(5)"
   ]
  },
  {
   "cell_type": "code",
   "execution_count": 75,
   "id": "15e28a03-d0c1-4ad8-b97f-951fc53c3a5b",
   "metadata": {},
   "outputs": [],
   "source": [
    "X_train, X_test, y_train, y_test = train_test_split(X,y,random_state=RANDOM_STATE, test_size=0.20)"
   ]
  },
  {
   "cell_type": "code",
   "execution_count": 76,
   "id": "53120566-254a-468f-b59e-6384336f0699",
   "metadata": {},
   "outputs": [
    {
     "name": "stdout",
     "output_type": "stream",
     "text": [
      "accuracy = 0.8493\n"
     ]
    }
   ],
   "source": [
    "dt = DecisionTreeClassifier(random_state=RANDOM_STATE)\n",
    "dt.fit(X_train,y_train)\n",
    "\n",
    "y_pred = dt.predict(X_test)\n",
    "\n",
    "accuracy = dt.score(X_test, y_test)\n",
    "\n",
    "print(\"accuracy = {:.4f}\".format(accuracy))"
   ]
  },
  {
   "cell_type": "code",
   "execution_count": 77,
   "id": "c110adb9-7f82-4eab-ade0-b00178e66e33",
   "metadata": {},
   "outputs": [
    {
     "data": {
      "text/plain": [
       "<sklearn.metrics._plot.confusion_matrix.ConfusionMatrixDisplay at 0x206093a2340>"
      ]
     },
     "execution_count": 77,
     "metadata": {},
     "output_type": "execute_result"
    },
    {
     "data": {
      "image/png": "[encoded data removed]",
      "text/plain": [
       "<Figure size 432x288 with 2 Axes>"
      ]
     },
     "metadata": {
      "needs_background": "light"
     },
     "output_type": "display_data"
    }
   ],
   "source": [
    "ConfusionMatrixDisplay.from_predictions(y_test, y_pred)"
   ]
  },
  {
   "cell_type": "markdown",
   "id": "8d183009-d98a-4d1b-9ac6-41206631a537",
   "metadata": {
    "tags": []
   },
   "source": [
    "### Removed acceleration data"
   ]
  },
  {
   "cell_type": "code",
   "execution_count": 78,
   "id": "48065a68-7fb2-406d-bff0-c39f4792ed94",
   "metadata": {},
   "outputs": [],
   "source": [
    "X = dataframe.drop('0', axis=1)\n",
    "y = dataframe['0']"
   ]
  },
  {
   "cell_type": "code",
   "execution_count": 79,
   "id": "c65119fa-ba83-47d1-833d-dc8e54c00062",
   "metadata": {},
   "outputs": [],
   "source": [
    "X = X.drop(acc_1_3_cols, axis=1)\n",
    "X = X.drop(acc_4_6_cols, axis=1)"
   ]
  },
  {
   "cell_type": "code",
   "execution_count": 80,
   "id": "4d9d4c59-71e2-4751-a954-0effafe906ff",
   "metadata": {},
   "outputs": [
    {
     "data": {
      "text/html": [
       "<div>\n",
       "<style scoped>\n",
       "    .dataframe tbody tr th:only-of-type {\n",
       "        vertical-align: middle;\n",
       "    }\n",
       "\n",
       "    .dataframe tbody tr th {\n",
       "        vertical-align: top;\n",
       "    }\n",
       "\n",
       "    .dataframe thead th {\n",
       "        text-align: right;\n",
       "    }\n",
       "</style>\n",
       "<table border=\"1\" class=\"dataframe\">\n",
       "  <thead>\n",
       "    <tr style=\"text-align: right;\">\n",
       "      <th></th>\n",
       "      <th>7</th>\n",
       "      <th>8</th>\n",
       "      <th>9</th>\n",
       "      <th>10</th>\n",
       "      <th>11</th>\n",
       "      <th>12</th>\n",
       "      <th>19</th>\n",
       "      <th>20</th>\n",
       "      <th>21</th>\n",
       "      <th>22</th>\n",
       "      <th>...</th>\n",
       "      <th>129</th>\n",
       "      <th>130</th>\n",
       "      <th>131</th>\n",
       "      <th>132</th>\n",
       "      <th>139</th>\n",
       "      <th>140</th>\n",
       "      <th>141</th>\n",
       "      <th>142</th>\n",
       "      <th>143</th>\n",
       "      <th>144</th>\n",
       "    </tr>\n",
       "  </thead>\n",
       "  <tbody>\n",
       "    <tr>\n",
       "      <th>0</th>\n",
       "      <td>-0.092217</td>\n",
       "      <td>0.056812</td>\n",
       "      <td>-0.015845</td>\n",
       "      <td>14.68060</td>\n",
       "      <td>-69.2128</td>\n",
       "      <td>-5.589050</td>\n",
       "      <td>-0.067544</td>\n",
       "      <td>0.056746</td>\n",
       "      <td>-0.003826</td>\n",
       "      <td>15.80040</td>\n",
       "      <td>...</td>\n",
       "      <td>0.029452</td>\n",
       "      <td>4.00819</td>\n",
       "      <td>-71.6745</td>\n",
       "      <td>-2.94732</td>\n",
       "      <td>0.010339</td>\n",
       "      <td>0.035223</td>\n",
       "      <td>-0.015202</td>\n",
       "      <td>4.01899</td>\n",
       "      <td>-70.8092</td>\n",
       "      <td>-2.590940</td>\n",
       "    </tr>\n",
       "    <tr>\n",
       "      <th>1</th>\n",
       "      <td>-0.049142</td>\n",
       "      <td>-0.038741</td>\n",
       "      <td>-0.020873</td>\n",
       "      <td>14.65590</td>\n",
       "      <td>-69.0862</td>\n",
       "      <td>-6.860420</td>\n",
       "      <td>0.447234</td>\n",
       "      <td>0.004478</td>\n",
       "      <td>-0.014667</td>\n",
       "      <td>15.18320</td>\n",
       "      <td>...</td>\n",
       "      <td>-0.013361</td>\n",
       "      <td>4.43299</td>\n",
       "      <td>-71.3578</td>\n",
       "      <td>-4.10606</td>\n",
       "      <td>0.169545</td>\n",
       "      <td>-0.045680</td>\n",
       "      <td>-0.018241</td>\n",
       "      <td>5.23624</td>\n",
       "      <td>-71.5280</td>\n",
       "      <td>-2.959810</td>\n",
       "    </tr>\n",
       "    <tr>\n",
       "      <th>2</th>\n",
       "      <td>-0.430040</td>\n",
       "      <td>0.862167</td>\n",
       "      <td>0.438581</td>\n",
       "      <td>6.74787</td>\n",
       "      <td>-71.2189</td>\n",
       "      <td>0.035156</td>\n",
       "      <td>0.055655</td>\n",
       "      <td>0.046364</td>\n",
       "      <td>-0.004223</td>\n",
       "      <td>3.34363</td>\n",
       "      <td>...</td>\n",
       "      <td>0.147539</td>\n",
       "      <td>5.04520</td>\n",
       "      <td>-70.0100</td>\n",
       "      <td>-1.66824</td>\n",
       "      <td>0.213801</td>\n",
       "      <td>0.629110</td>\n",
       "      <td>-0.319256</td>\n",
       "      <td>9.08985</td>\n",
       "      <td>-68.9533</td>\n",
       "      <td>-0.545889</td>\n",
       "    </tr>\n",
       "    <tr>\n",
       "      <th>3</th>\n",
       "      <td>-0.132352</td>\n",
       "      <td>-0.150542</td>\n",
       "      <td>-0.018884</td>\n",
       "      <td>3.88699</td>\n",
       "      <td>-71.7704</td>\n",
       "      <td>-3.409880</td>\n",
       "      <td>0.046345</td>\n",
       "      <td>0.006161</td>\n",
       "      <td>0.029452</td>\n",
       "      <td>4.00819</td>\n",
       "      <td>...</td>\n",
       "      <td>0.078498</td>\n",
       "      <td>9.70210</td>\n",
       "      <td>-69.9337</td>\n",
       "      <td>-3.22523</td>\n",
       "      <td>-0.462191</td>\n",
       "      <td>0.016133</td>\n",
       "      <td>0.049036</td>\n",
       "      <td>8.32884</td>\n",
       "      <td>-69.3952</td>\n",
       "      <td>-5.055360</td>\n",
       "    </tr>\n",
       "    <tr>\n",
       "      <th>4</th>\n",
       "      <td>-0.126235</td>\n",
       "      <td>0.030481</td>\n",
       "      <td>-0.038864</td>\n",
       "      <td>4.89423</td>\n",
       "      <td>-71.6125</td>\n",
       "      <td>-3.303990</td>\n",
       "      <td>-0.268035</td>\n",
       "      <td>0.023673</td>\n",
       "      <td>-0.013361</td>\n",
       "      <td>4.43299</td>\n",
       "      <td>...</td>\n",
       "      <td>-0.288542</td>\n",
       "      <td>14.56610</td>\n",
       "      <td>-68.3312</td>\n",
       "      <td>-5.92542</td>\n",
       "      <td>-0.372702</td>\n",
       "      <td>0.114139</td>\n",
       "      <td>-0.001781</td>\n",
       "      <td>15.90850</td>\n",
       "      <td>-69.6117</td>\n",
       "      <td>-5.491680</td>\n",
       "    </tr>\n",
       "  </tbody>\n",
       "</table>\n",
       "<p>5 rows × 72 columns</p>\n",
       "</div>"
      ],
      "text/plain": [
       "          7         8         9        10       11        12        19  \\\n",
       "0 -0.092217  0.056812 -0.015845  14.68060 -69.2128 -5.589050 -0.067544   \n",
       "1 -0.049142 -0.038741 -0.020873  14.65590 -69.0862 -6.860420  0.447234   \n",
       "2 -0.430040  0.862167  0.438581   6.74787 -71.2189  0.035156  0.055655   \n",
       "3 -0.132352 -0.150542 -0.018884   3.88699 -71.7704 -3.409880  0.046345   \n",
       "4 -0.126235  0.030481 -0.038864   4.89423 -71.6125 -3.303990 -0.268035   \n",
       "\n",
       "         20        21        22  ...       129       130      131      132  \\\n",
       "0  0.056746 -0.003826  15.80040  ...  0.029452   4.00819 -71.6745 -2.94732   \n",
       "1  0.004478 -0.014667  15.18320  ... -0.013361   4.43299 -71.3578 -4.10606   \n",
       "2  0.046364 -0.004223   3.34363  ...  0.147539   5.04520 -70.0100 -1.66824   \n",
       "3  0.006161  0.029452   4.00819  ...  0.078498   9.70210 -69.9337 -3.22523   \n",
       "4  0.023673 -0.013361   4.43299  ... -0.288542  14.56610 -68.3312 -5.92542   \n",
       "\n",
       "        139       140       141       142      143       144  \n",
       "0  0.010339  0.035223 -0.015202   4.01899 -70.8092 -2.590940  \n",
       "1  0.169545 -0.045680 -0.018241   5.23624 -71.5280 -2.959810  \n",
       "2  0.213801  0.629110 -0.319256   9.08985 -68.9533 -0.545889  \n",
       "3 -0.462191  0.016133  0.049036   8.32884 -69.3952 -5.055360  \n",
       "4 -0.372702  0.114139 -0.001781  15.90850 -69.6117 -5.491680  \n",
       "\n",
       "[5 rows x 72 columns]"
      ]
     },
     "execution_count": 80,
     "metadata": {},
     "output_type": "execute_result"
    }
   ],
   "source": [
    "X.head(5)"
   ]
  },
  {
   "cell_type": "code",
   "execution_count": 81,
   "id": "ed1da719-4603-4e5e-8217-86e9996803d8",
   "metadata": {},
   "outputs": [],
   "source": [
    "X_train, X_test, y_train, y_test = train_test_split(X,y,random_state=RANDOM_STATE, test_size=0.20)"
   ]
  },
  {
   "cell_type": "code",
   "execution_count": 82,
   "id": "dfacc600-24ff-4284-8dc2-0b46b3015140",
   "metadata": {},
   "outputs": [
    {
     "name": "stdout",
     "output_type": "stream",
     "text": [
      "accuracy = 0.8207\n"
     ]
    }
   ],
   "source": [
    "dt = DecisionTreeClassifier(random_state=RANDOM_STATE)\n",
    "dt.fit(X_train,y_train)\n",
    "\n",
    "y_pred = dt.predict(X_test)\n",
    "\n",
    "accuracy = dt.score(X_test, y_test)\n",
    "\n",
    "print(\"accuracy = {:.4f}\".format(accuracy))"
   ]
  },
  {
   "cell_type": "code",
   "execution_count": 83,
   "id": "08d53ec4-c215-48db-896d-971e4d5420e4",
   "metadata": {},
   "outputs": [
    {
     "data": {
      "text/plain": [
       "<sklearn.metrics._plot.confusion_matrix.ConfusionMatrixDisplay at 0x206085b03d0>"
      ]
     },
     "execution_count": 83,
     "metadata": {},
     "output_type": "execute_result"
    },
    {
     "data": {
      "image/png": "[encoded data removed]",
      "text/plain": [
       "<Figure size 432x288 with 2 Axes>"
      ]
     },
     "metadata": {
      "needs_background": "light"
     },
     "output_type": "display_data"
    }
   ],
   "source": [
    "ConfusionMatrixDisplay.from_predictions(y_test, y_pred)"
   ]
  },
  {
   "cell_type": "markdown",
   "id": "894abef8-f450-426f-b3e9-4505e4e01184",
   "metadata": {
    "tags": []
   },
   "source": [
    "### Removed acceleration and gyroscope data"
   ]
  },
  {
   "cell_type": "code",
   "execution_count": 84,
   "id": "24b361c0-23a4-480f-910b-c1574c33d960",
   "metadata": {},
   "outputs": [],
   "source": [
    "X = dataframe.drop('0', axis=1)\n",
    "y = dataframe['0']"
   ]
  },
  {
   "cell_type": "code",
   "execution_count": 85,
   "id": "57b41020-cbfb-4116-9fdc-1a5df51ebb86",
   "metadata": {},
   "outputs": [],
   "source": [
    "X = X.drop(acc_1_3_cols, axis=1)\n",
    "X = X.drop(acc_4_6_cols, axis=1)\n",
    "X = X.drop(gyroscope_cols, axis=1)"
   ]
  },
  {
   "cell_type": "code",
   "execution_count": 86,
   "id": "d0f1039a-3b68-4a98-90ff-f1785cd268d2",
   "metadata": {},
   "outputs": [
    {
     "data": {
      "text/html": [
       "<div>\n",
       "<style scoped>\n",
       "    .dataframe tbody tr th:only-of-type {\n",
       "        vertical-align: middle;\n",
       "    }\n",
       "\n",
       "    .dataframe tbody tr th {\n",
       "        vertical-align: top;\n",
       "    }\n",
       "\n",
       "    .dataframe thead th {\n",
       "        text-align: right;\n",
       "    }\n",
       "</style>\n",
       "<table border=\"1\" class=\"dataframe\">\n",
       "  <thead>\n",
       "    <tr style=\"text-align: right;\">\n",
       "      <th></th>\n",
       "      <th>10</th>\n",
       "      <th>11</th>\n",
       "      <th>12</th>\n",
       "      <th>22</th>\n",
       "      <th>23</th>\n",
       "      <th>24</th>\n",
       "      <th>34</th>\n",
       "      <th>35</th>\n",
       "      <th>36</th>\n",
       "      <th>46</th>\n",
       "      <th>...</th>\n",
       "      <th>108</th>\n",
       "      <th>118</th>\n",
       "      <th>119</th>\n",
       "      <th>120</th>\n",
       "      <th>130</th>\n",
       "      <th>131</th>\n",
       "      <th>132</th>\n",
       "      <th>142</th>\n",
       "      <th>143</th>\n",
       "      <th>144</th>\n",
       "    </tr>\n",
       "  </thead>\n",
       "  <tbody>\n",
       "    <tr>\n",
       "      <th>0</th>\n",
       "      <td>14.68060</td>\n",
       "      <td>-69.2128</td>\n",
       "      <td>-5.589050</td>\n",
       "      <td>15.80040</td>\n",
       "      <td>-68.8438</td>\n",
       "      <td>-5.48217</td>\n",
       "      <td>15.34500</td>\n",
       "      <td>-68.8115</td>\n",
       "      <td>-5.93952</td>\n",
       "      <td>14.65590</td>\n",
       "      <td>...</td>\n",
       "      <td>-3.861670</td>\n",
       "      <td>3.88699</td>\n",
       "      <td>-71.7704</td>\n",
       "      <td>-3.40988</td>\n",
       "      <td>4.00819</td>\n",
       "      <td>-71.6745</td>\n",
       "      <td>-2.94732</td>\n",
       "      <td>4.01899</td>\n",
       "      <td>-70.8092</td>\n",
       "      <td>-2.590940</td>\n",
       "    </tr>\n",
       "    <tr>\n",
       "      <th>1</th>\n",
       "      <td>14.65590</td>\n",
       "      <td>-69.0862</td>\n",
       "      <td>-6.860420</td>\n",
       "      <td>15.18320</td>\n",
       "      <td>-68.9511</td>\n",
       "      <td>-2.81450</td>\n",
       "      <td>14.27660</td>\n",
       "      <td>-69.1802</td>\n",
       "      <td>2.16975</td>\n",
       "      <td>6.74787</td>\n",
       "      <td>...</td>\n",
       "      <td>-2.590940</td>\n",
       "      <td>4.89423</td>\n",
       "      <td>-71.6125</td>\n",
       "      <td>-3.30399</td>\n",
       "      <td>4.43299</td>\n",
       "      <td>-71.3578</td>\n",
       "      <td>-4.10606</td>\n",
       "      <td>5.23624</td>\n",
       "      <td>-71.5280</td>\n",
       "      <td>-2.959810</td>\n",
       "    </tr>\n",
       "    <tr>\n",
       "      <th>2</th>\n",
       "      <td>6.74787</td>\n",
       "      <td>-71.2189</td>\n",
       "      <td>0.035156</td>\n",
       "      <td>3.34363</td>\n",
       "      <td>-71.0935</td>\n",
       "      <td>-2.81772</td>\n",
       "      <td>2.87338</td>\n",
       "      <td>-71.8146</td>\n",
       "      <td>-3.86167</td>\n",
       "      <td>3.88699</td>\n",
       "      <td>...</td>\n",
       "      <td>-2.959810</td>\n",
       "      <td>5.22709</td>\n",
       "      <td>-71.5215</td>\n",
       "      <td>-3.42255</td>\n",
       "      <td>5.04520</td>\n",
       "      <td>-70.0100</td>\n",
       "      <td>-1.66824</td>\n",
       "      <td>9.08985</td>\n",
       "      <td>-68.9533</td>\n",
       "      <td>-0.545889</td>\n",
       "    </tr>\n",
       "    <tr>\n",
       "      <th>3</th>\n",
       "      <td>3.88699</td>\n",
       "      <td>-71.7704</td>\n",
       "      <td>-3.409880</td>\n",
       "      <td>4.00819</td>\n",
       "      <td>-71.6745</td>\n",
       "      <td>-2.94732</td>\n",
       "      <td>4.01899</td>\n",
       "      <td>-70.8092</td>\n",
       "      <td>-2.59094</td>\n",
       "      <td>4.89423</td>\n",
       "      <td>...</td>\n",
       "      <td>-0.545889</td>\n",
       "      <td>10.16170</td>\n",
       "      <td>-69.5325</td>\n",
       "      <td>-2.64752</td>\n",
       "      <td>9.70210</td>\n",
       "      <td>-69.9337</td>\n",
       "      <td>-3.22523</td>\n",
       "      <td>8.32884</td>\n",
       "      <td>-69.3952</td>\n",
       "      <td>-5.055360</td>\n",
       "    </tr>\n",
       "    <tr>\n",
       "      <th>4</th>\n",
       "      <td>4.89423</td>\n",
       "      <td>-71.6125</td>\n",
       "      <td>-3.303990</td>\n",
       "      <td>4.43299</td>\n",
       "      <td>-71.3578</td>\n",
       "      <td>-4.10606</td>\n",
       "      <td>5.23624</td>\n",
       "      <td>-71.5280</td>\n",
       "      <td>-2.95981</td>\n",
       "      <td>5.22709</td>\n",
       "      <td>...</td>\n",
       "      <td>-5.055360</td>\n",
       "      <td>9.21699</td>\n",
       "      <td>-69.8803</td>\n",
       "      <td>-5.18649</td>\n",
       "      <td>14.56610</td>\n",
       "      <td>-68.3312</td>\n",
       "      <td>-5.92542</td>\n",
       "      <td>15.90850</td>\n",
       "      <td>-69.6117</td>\n",
       "      <td>-5.491680</td>\n",
       "    </tr>\n",
       "  </tbody>\n",
       "</table>\n",
       "<p>5 rows × 36 columns</p>\n",
       "</div>"
      ],
      "text/plain": [
       "         10       11        12        22       23       24        34       35  \\\n",
       "0  14.68060 -69.2128 -5.589050  15.80040 -68.8438 -5.48217  15.34500 -68.8115   \n",
       "1  14.65590 -69.0862 -6.860420  15.18320 -68.9511 -2.81450  14.27660 -69.1802   \n",
       "2   6.74787 -71.2189  0.035156   3.34363 -71.0935 -2.81772   2.87338 -71.8146   \n",
       "3   3.88699 -71.7704 -3.409880   4.00819 -71.6745 -2.94732   4.01899 -70.8092   \n",
       "4   4.89423 -71.6125 -3.303990   4.43299 -71.3578 -4.10606   5.23624 -71.5280   \n",
       "\n",
       "        36        46  ...       108       118      119      120       130  \\\n",
       "0 -5.93952  14.65590  ... -3.861670   3.88699 -71.7704 -3.40988   4.00819   \n",
       "1  2.16975   6.74787  ... -2.590940   4.89423 -71.6125 -3.30399   4.43299   \n",
       "2 -3.86167   3.88699  ... -2.959810   5.22709 -71.5215 -3.42255   5.04520   \n",
       "3 -2.59094   4.89423  ... -0.545889  10.16170 -69.5325 -2.64752   9.70210   \n",
       "4 -2.95981   5.22709  ... -5.055360   9.21699 -69.8803 -5.18649  14.56610   \n",
       "\n",
       "       131      132       142      143       144  \n",
       "0 -71.6745 -2.94732   4.01899 -70.8092 -2.590940  \n",
       "1 -71.3578 -4.10606   5.23624 -71.5280 -2.959810  \n",
       "2 -70.0100 -1.66824   9.08985 -68.9533 -0.545889  \n",
       "3 -69.9337 -3.22523   8.32884 -69.3952 -5.055360  \n",
       "4 -68.3312 -5.92542  15.90850 -69.6117 -5.491680  \n",
       "\n",
       "[5 rows x 36 columns]"
      ]
     },
     "execution_count": 86,
     "metadata": {},
     "output_type": "execute_result"
    }
   ],
   "source": [
    "X.head(5)"
   ]
  },
  {
   "cell_type": "code",
   "execution_count": 87,
   "id": "166e2702-0354-43e5-953a-671483bba854",
   "metadata": {},
   "outputs": [],
   "source": [
    "X_train, X_test, y_train, y_test = train_test_split(X,y,random_state=RANDOM_STATE, test_size=0.20)"
   ]
  },
  {
   "cell_type": "code",
   "execution_count": 88,
   "id": "f7d6504e-4765-4556-9eb3-07dcde6e4f69",
   "metadata": {},
   "outputs": [
    {
     "name": "stdout",
     "output_type": "stream",
     "text": [
      "accuracy = 0.8218\n"
     ]
    }
   ],
   "source": [
    "dt = DecisionTreeClassifier(random_state=RANDOM_STATE)\n",
    "dt.fit(X_train,y_train)\n",
    "\n",
    "y_pred = dt.predict(X_test)\n",
    "\n",
    "accuracy = dt.score(X_test, y_test)\n",
    "\n",
    "print(\"accuracy = {:.4f}\".format(accuracy))"
   ]
  },
  {
   "cell_type": "code",
   "execution_count": 89,
   "id": "6cdfae3a-f88d-4da5-84d1-f90d8f199f9f",
   "metadata": {},
   "outputs": [
    {
     "data": {
      "text/plain": [
       "<sklearn.metrics._plot.confusion_matrix.ConfusionMatrixDisplay at 0x206093a27f0>"
      ]
     },
     "execution_count": 89,
     "metadata": {},
     "output_type": "execute_result"
    },
    {
     "data": {
      "image/png": "[encoded data removed]",
      "text/plain": [
       "<Figure size 432x288 with 2 Axes>"
      ]
     },
     "metadata": {
      "needs_background": "light"
     },
     "output_type": "display_data"
    }
   ],
   "source": [
    "ConfusionMatrixDisplay.from_predictions(y_test, y_pred)"
   ]
  },
  {
   "cell_type": "markdown",
   "id": "bb8f90ef-2d3b-4935-a3e1-e9030212db52",
   "metadata": {
    "tags": []
   },
   "source": [
    "# 3s window, 10Hz measurement PAMAP classification"
   ]
  },
  {
   "cell_type": "code",
   "execution_count": 90,
   "id": "659d8355-fa61-4c44-8a2e-28a6afe092b9",
   "metadata": {},
   "outputs": [],
   "source": [
    "dataframe = pd.read_csv('./data/PAMAP2_Extracted_300_10.csv')"
   ]
  },
  {
   "cell_type": "code",
   "execution_count": 91,
   "id": "b281066c-11f8-4c21-8927-e64a6f3b0748",
   "metadata": {},
   "outputs": [
    {
     "data": {
      "text/html": [
       "<div>\n",
       "<style scoped>\n",
       "    .dataframe tbody tr th:only-of-type {\n",
       "        vertical-align: middle;\n",
       "    }\n",
       "\n",
       "    .dataframe tbody tr th {\n",
       "        vertical-align: top;\n",
       "    }\n",
       "\n",
       "    .dataframe thead th {\n",
       "        text-align: right;\n",
       "    }\n",
       "</style>\n",
       "<table border=\"1\" class=\"dataframe\">\n",
       "  <thead>\n",
       "    <tr style=\"text-align: right;\">\n",
       "      <th></th>\n",
       "      <th>0</th>\n",
       "      <th>1</th>\n",
       "      <th>2</th>\n",
       "      <th>3</th>\n",
       "      <th>4</th>\n",
       "      <th>5</th>\n",
       "      <th>6</th>\n",
       "      <th>7</th>\n",
       "      <th>8</th>\n",
       "      <th>9</th>\n",
       "      <th>...</th>\n",
       "      <th>351</th>\n",
       "      <th>352</th>\n",
       "      <th>353</th>\n",
       "      <th>354</th>\n",
       "      <th>355</th>\n",
       "      <th>356</th>\n",
       "      <th>357</th>\n",
       "      <th>358</th>\n",
       "      <th>359</th>\n",
       "      <th>360</th>\n",
       "    </tr>\n",
       "  </thead>\n",
       "  <tbody>\n",
       "    <tr>\n",
       "      <th>0</th>\n",
       "      <td>0</td>\n",
       "      <td>2.37223</td>\n",
       "      <td>8.60074</td>\n",
       "      <td>3.51048</td>\n",
       "      <td>2.43954</td>\n",
       "      <td>8.76165</td>\n",
       "      <td>3.35465</td>\n",
       "      <td>-0.092217</td>\n",
       "      <td>0.056812</td>\n",
       "      <td>-0.015845</td>\n",
       "      <td>...</td>\n",
       "      <td>3.63248</td>\n",
       "      <td>2.84744</td>\n",
       "      <td>8.62303</td>\n",
       "      <td>3.61125</td>\n",
       "      <td>-0.168271</td>\n",
       "      <td>0.046555</td>\n",
       "      <td>-0.065634</td>\n",
       "      <td>4.11368</td>\n",
       "      <td>-72.0041</td>\n",
       "      <td>-3.18354</td>\n",
       "    </tr>\n",
       "    <tr>\n",
       "      <th>1</th>\n",
       "      <td>0</td>\n",
       "      <td>2.29585</td>\n",
       "      <td>8.67686</td>\n",
       "      <td>3.47059</td>\n",
       "      <td>2.35174</td>\n",
       "      <td>8.62679</td>\n",
       "      <td>3.80806</td>\n",
       "      <td>-0.049142</td>\n",
       "      <td>-0.038741</td>\n",
       "      <td>-0.020873</td>\n",
       "      <td>...</td>\n",
       "      <td>3.62700</td>\n",
       "      <td>2.62341</td>\n",
       "      <td>8.79084</td>\n",
       "      <td>3.68662</td>\n",
       "      <td>-0.093857</td>\n",
       "      <td>0.001727</td>\n",
       "      <td>0.019122</td>\n",
       "      <td>4.23946</td>\n",
       "      <td>-71.9115</td>\n",
       "      <td>-2.48961</td>\n",
       "    </tr>\n",
       "    <tr>\n",
       "      <th>2</th>\n",
       "      <td>0</td>\n",
       "      <td>2.87239</td>\n",
       "      <td>9.23323</td>\n",
       "      <td>2.55365</td>\n",
       "      <td>2.96491</td>\n",
       "      <td>9.14991</td>\n",
       "      <td>2.70393</td>\n",
       "      <td>-0.430040</td>\n",
       "      <td>0.862167</td>\n",
       "      <td>0.438581</td>\n",
       "      <td>...</td>\n",
       "      <td>3.70051</td>\n",
       "      <td>2.52779</td>\n",
       "      <td>9.56213</td>\n",
       "      <td>4.09274</td>\n",
       "      <td>-0.644130</td>\n",
       "      <td>0.160829</td>\n",
       "      <td>0.134891</td>\n",
       "      <td>11.28800</td>\n",
       "      <td>-68.7317</td>\n",
       "      <td>-2.30461</td>\n",
       "    </tr>\n",
       "    <tr>\n",
       "      <th>3</th>\n",
       "      <td>0</td>\n",
       "      <td>3.09022</td>\n",
       "      <td>9.35263</td>\n",
       "      <td>3.36474</td>\n",
       "      <td>3.01691</td>\n",
       "      <td>9.21065</td>\n",
       "      <td>3.45878</td>\n",
       "      <td>-0.132352</td>\n",
       "      <td>-0.150542</td>\n",
       "      <td>-0.018884</td>\n",
       "      <td>...</td>\n",
       "      <td>3.66121</td>\n",
       "      <td>2.26816</td>\n",
       "      <td>9.15624</td>\n",
       "      <td>4.09390</td>\n",
       "      <td>0.773302</td>\n",
       "      <td>-0.416489</td>\n",
       "      <td>-0.082489</td>\n",
       "      <td>9.82100</td>\n",
       "      <td>-69.8362</td>\n",
       "      <td>-2.87835</td>\n",
       "    </tr>\n",
       "    <tr>\n",
       "      <th>4</th>\n",
       "      <td>0</td>\n",
       "      <td>2.87017</td>\n",
       "      <td>8.97734</td>\n",
       "      <td>3.63213</td>\n",
       "      <td>2.97282</td>\n",
       "      <td>9.06021</td>\n",
       "      <td>3.74607</td>\n",
       "      <td>-0.126235</td>\n",
       "      <td>0.030481</td>\n",
       "      <td>-0.038864</td>\n",
       "      <td>...</td>\n",
       "      <td>3.81286</td>\n",
       "      <td>1.91886</td>\n",
       "      <td>8.76617</td>\n",
       "      <td>4.17062</td>\n",
       "      <td>-0.172123</td>\n",
       "      <td>0.064579</td>\n",
       "      <td>-0.016637</td>\n",
       "      <td>16.76740</td>\n",
       "      <td>-68.4393</td>\n",
       "      <td>-7.45627</td>\n",
       "    </tr>\n",
       "  </tbody>\n",
       "</table>\n",
       "<p>5 rows × 361 columns</p>\n",
       "</div>"
      ],
      "text/plain": [
       "   0        1        2        3        4        5        6         7  \\\n",
       "0  0  2.37223  8.60074  3.51048  2.43954  8.76165  3.35465 -0.092217   \n",
       "1  0  2.29585  8.67686  3.47059  2.35174  8.62679  3.80806 -0.049142   \n",
       "2  0  2.87239  9.23323  2.55365  2.96491  9.14991  2.70393 -0.430040   \n",
       "3  0  3.09022  9.35263  3.36474  3.01691  9.21065  3.45878 -0.132352   \n",
       "4  0  2.87017  8.97734  3.63213  2.97282  9.06021  3.74607 -0.126235   \n",
       "\n",
       "          8         9  ...      351      352      353      354       355  \\\n",
       "0  0.056812 -0.015845  ...  3.63248  2.84744  8.62303  3.61125 -0.168271   \n",
       "1 -0.038741 -0.020873  ...  3.62700  2.62341  8.79084  3.68662 -0.093857   \n",
       "2  0.862167  0.438581  ...  3.70051  2.52779  9.56213  4.09274 -0.644130   \n",
       "3 -0.150542 -0.018884  ...  3.66121  2.26816  9.15624  4.09390  0.773302   \n",
       "4  0.030481 -0.038864  ...  3.81286  1.91886  8.76617  4.17062 -0.172123   \n",
       "\n",
       "        356       357       358      359      360  \n",
       "0  0.046555 -0.065634   4.11368 -72.0041 -3.18354  \n",
       "1  0.001727  0.019122   4.23946 -71.9115 -2.48961  \n",
       "2  0.160829  0.134891  11.28800 -68.7317 -2.30461  \n",
       "3 -0.416489 -0.082489   9.82100 -69.8362 -2.87835  \n",
       "4  0.064579 -0.016637  16.76740 -68.4393 -7.45627  \n",
       "\n",
       "[5 rows x 361 columns]"
      ]
     },
     "execution_count": 91,
     "metadata": {},
     "output_type": "execute_result"
    }
   ],
   "source": [
    "dataframe.head(5)"
   ]
  },
  {
   "cell_type": "markdown",
   "id": "9a5ca3cf-667d-439a-bc95-6f86292c8396",
   "metadata": {},
   "source": [
    "## Classification on entire data"
   ]
  },
  {
   "cell_type": "code",
   "execution_count": 92,
   "id": "b3dad801-0f9d-447e-92a4-e8991438e031",
   "metadata": {},
   "outputs": [],
   "source": [
    "X = dataframe.drop('0', axis=1)\n",
    "y = dataframe['0']"
   ]
  },
  {
   "cell_type": "code",
   "execution_count": 93,
   "id": "3e015a51-fbe2-4998-b6f1-e12a467bf3bb",
   "metadata": {},
   "outputs": [
    {
     "name": "stdout",
     "output_type": "stream",
     "text": [
      "train rows: 14226, test rows: 3557\n"
     ]
    }
   ],
   "source": [
    "X_train, X_test, y_train, y_test = train_test_split(X,y,random_state=RANDOM_STATE, test_size=0.20)\n",
    "\n",
    "scaler = StandardScaler()\n",
    "X_train = scaler.fit_transform(X_train)\n",
    "X_test = scaler.transform(X_test)\n",
    "\n",
    "print(\"train rows: {}, test rows: {}\".format(X_train.shape[0], X_test.shape[0]))"
   ]
  },
  {
   "cell_type": "code",
   "execution_count": 94,
   "id": "422d9659-1479-4b4b-99d4-16cceddb3a00",
   "metadata": {},
   "outputs": [
    {
     "data": {
      "text/plain": [
       "{0: 9231, 2: 1929, 3: 1935, 5: 745, 24: 386}"
      ]
     },
     "execution_count": 94,
     "metadata": {},
     "output_type": "execute_result"
    }
   ],
   "source": [
    "label, count = np.unique(y_train, return_counts=True)\n",
    "dict(zip(label, count))"
   ]
  },
  {
   "cell_type": "code",
   "execution_count": 95,
   "id": "9e1e96ac-2483-4865-ab40-265d9d9f1f51",
   "metadata": {},
   "outputs": [
    {
     "name": "stdout",
     "output_type": "stream",
     "text": [
      "accuracy = 0.8541\n"
     ]
    }
   ],
   "source": [
    "dt = DecisionTreeClassifier(random_state=RANDOM_STATE)\n",
    "dt.fit(X_train,y_train)\n",
    "\n",
    "y_pred = dt.predict(X_test)\n",
    "\n",
    "accuracy = dt.score(X_test, y_test)\n",
    "\n",
    "print(\"accuracy = {:.4f}\".format(accuracy))"
   ]
  },
  {
   "cell_type": "code",
   "execution_count": 96,
   "id": "2d53a37f-df2d-4e3b-86da-84a36bb521e4",
   "metadata": {},
   "outputs": [
    {
     "data": {
      "text/plain": [
       "<sklearn.metrics._plot.confusion_matrix.ConfusionMatrixDisplay at 0x206085babb0>"
      ]
     },
     "execution_count": 96,
     "metadata": {},
     "output_type": "execute_result"
    },
    {
     "data": {
      "image/png": "[encoded data removed]",
      "text/plain": [
       "<Figure size 432x288 with 2 Axes>"
      ]
     },
     "metadata": {
      "needs_background": "light"
     },
     "output_type": "display_data"
    }
   ],
   "source": [
    "ConfusionMatrixDisplay.from_predictions(y_test, y_pred)"
   ]
  },
  {
   "cell_type": "markdown",
   "id": "170f8329-71e9-4718-aa4c-83409d578720",
   "metadata": {
    "tags": []
   },
   "source": [
    "### Oversampling"
   ]
  },
  {
   "cell_type": "code",
   "execution_count": 97,
   "id": "61cb134a-681f-4dc7-98b8-509b3ea3c203",
   "metadata": {},
   "outputs": [],
   "source": [
    "oversample = SMOTE(random_state=RANDOM_STATE)\n",
    "\n",
    "X_train_ov, y_train_ov = oversample.fit_resample(X_train, y_train)"
   ]
  },
  {
   "cell_type": "code",
   "execution_count": 98,
   "id": "2259b316-d1ed-490b-ab73-83fb04125140",
   "metadata": {},
   "outputs": [
    {
     "data": {
      "text/plain": [
       "{0: 9231, 2: 9231, 3: 9231, 5: 9231, 24: 9231}"
      ]
     },
     "execution_count": 98,
     "metadata": {},
     "output_type": "execute_result"
    }
   ],
   "source": [
    "label, count = np.unique(y_train_ov, return_counts=True)\n",
    "dict(zip(label, count))"
   ]
  },
  {
   "cell_type": "code",
   "execution_count": 99,
   "id": "48b9fa72-d09a-4901-a46c-80b45a5ccf45",
   "metadata": {},
   "outputs": [
    {
     "name": "stdout",
     "output_type": "stream",
     "text": [
      "train rows: 46155\n"
     ]
    }
   ],
   "source": [
    "print(\"train rows: {}\".format(X_train_ov.shape[0]))"
   ]
  },
  {
   "cell_type": "code",
   "execution_count": 100,
   "id": "fb4297b6-9fca-4223-8637-c2bca4ee65eb",
   "metadata": {},
   "outputs": [
    {
     "name": "stdout",
     "output_type": "stream",
     "text": [
      "accuracy = 0.8220\n"
     ]
    }
   ],
   "source": [
    "dt = DecisionTreeClassifier(random_state=RANDOM_STATE)\n",
    "dt.fit(X_train_ov,y_train_ov)\n",
    "\n",
    "y_pred = dt.predict(X_test)\n",
    "\n",
    "accuracy = dt.score(X_test, y_test)\n",
    "\n",
    "print(\"accuracy = {:.4f}\".format(accuracy))"
   ]
  },
  {
   "cell_type": "code",
   "execution_count": 101,
   "id": "339ee87f-2b80-4dea-a4ab-a802957565b7",
   "metadata": {},
   "outputs": [
    {
     "data": {
      "text/plain": [
       "<sklearn.metrics._plot.confusion_matrix.ConfusionMatrixDisplay at 0x20608228c70>"
      ]
     },
     "execution_count": 101,
     "metadata": {},
     "output_type": "execute_result"
    },
    {
     "data": {
      "image/png": "[encoded data removed]",
      "text/plain": [
       "<Figure size 432x288 with 2 Axes>"
      ]
     },
     "metadata": {
      "needs_background": "light"
     },
     "output_type": "display_data"
    }
   ],
   "source": [
    "ConfusionMatrixDisplay.from_predictions(y_test, y_pred)"
   ]
  },
  {
   "cell_type": "code",
   "execution_count": 102,
   "id": "33abc446-d4c6-458d-965b-15ed2b0c570a",
   "metadata": {},
   "outputs": [],
   "source": [
    "oversample = RandomOverSampler(random_state=RANDOM_STATE)\n",
    "\n",
    "X_train_ov, y_train_ov = oversample.fit_resample(X_train, y_train)"
   ]
  },
  {
   "cell_type": "code",
   "execution_count": 103,
   "id": "817e9a9a-60db-4467-af38-bb9dbe633418",
   "metadata": {},
   "outputs": [
    {
     "data": {
      "text/plain": [
       "{0: 9231, 2: 9231, 3: 9231, 5: 9231, 24: 9231}"
      ]
     },
     "execution_count": 103,
     "metadata": {},
     "output_type": "execute_result"
    }
   ],
   "source": [
    "label, count = np.unique(y_train_ov, return_counts=True)\n",
    "dict(zip(label, count))"
   ]
  },
  {
   "cell_type": "code",
   "execution_count": 104,
   "id": "7c93c710-9070-4df0-9aee-8317357605a7",
   "metadata": {},
   "outputs": [
    {
     "name": "stdout",
     "output_type": "stream",
     "text": [
      "train rows: 46155\n"
     ]
    }
   ],
   "source": [
    "print(\"train rows: {}\".format(X_train_ov.shape[0]))"
   ]
  },
  {
   "cell_type": "code",
   "execution_count": 105,
   "id": "16cb0b39-e3fe-4272-a92a-39ab42cc6b01",
   "metadata": {},
   "outputs": [
    {
     "name": "stdout",
     "output_type": "stream",
     "text": [
      "accuracy = 0.8527\n"
     ]
    }
   ],
   "source": [
    "dt = DecisionTreeClassifier(random_state=RANDOM_STATE)\n",
    "dt.fit(X_train_ov,y_train_ov)\n",
    "\n",
    "y_pred = dt.predict(X_test)\n",
    "\n",
    "accuracy = dt.score(X_test, y_test)\n",
    "\n",
    "print(\"accuracy = {:.4f}\".format(accuracy))"
   ]
  },
  {
   "cell_type": "code",
   "execution_count": 106,
   "id": "badb1069-9588-4d42-b910-e7705eed4cab",
   "metadata": {},
   "outputs": [
    {
     "data": {
      "text/plain": [
       "<sklearn.metrics._plot.confusion_matrix.ConfusionMatrixDisplay at 0x2060858d610>"
      ]
     },
     "execution_count": 106,
     "metadata": {},
     "output_type": "execute_result"
    },
    {
     "data": {
      "image/png": "[encoded data removed]",
      "text/plain": [
       "<Figure size 432x288 with 2 Axes>"
      ]
     },
     "metadata": {
      "needs_background": "light"
     },
     "output_type": "display_data"
    }
   ],
   "source": [
    "ConfusionMatrixDisplay.from_predictions(y_test, y_pred)"
   ]
  },
  {
   "cell_type": "markdown",
   "id": "f72860c1-47b8-4249-ac0c-c49301b07c48",
   "metadata": {},
   "source": [
    "### PCA"
   ]
  },
  {
   "cell_type": "code",
   "execution_count": 107,
   "id": "de8814f1-38aa-4d89-99a2-58a49a7219a6",
   "metadata": {},
   "outputs": [],
   "source": [
    "pca = PCA(random_state=RANDOM_STATE)"
   ]
  },
  {
   "cell_type": "code",
   "execution_count": 108,
   "id": "81e41530-fe3c-410a-9cdb-2a54cba89afb",
   "metadata": {},
   "outputs": [],
   "source": [
    "pca.fit(X_train)\n",
    "\n",
    "explained_variance = pca.explained_variance_ratio_"
   ]
  },
  {
   "cell_type": "code",
   "execution_count": 109,
   "id": "b4df09ce-7d1d-45a5-9f86-312b3cafecab",
   "metadata": {},
   "outputs": [
    {
     "data": {
      "image/png": "[encoded data removed]",
      "text/plain": [
       "<Figure size 576x576 with 1 Axes>"
      ]
     },
     "metadata": {
      "needs_background": "light"
     },
     "output_type": "display_data"
    }
   ],
   "source": [
    "s = 0\n",
    "for i in range(len(explained_variance)):\n",
    "    s += explained_variance[i]\n",
    "    explained_variance[i] = s\n",
    "    \n",
    "fig = plt.figure(figsize=(8,8))\n",
    "ax = fig.add_subplot()\n",
    "ax.plot(explained_variance)\n",
    "ax.set_xlabel(xlabel='number of components')\n",
    "ax.grid()\n",
    "plt.show()"
   ]
  },
  {
   "cell_type": "code",
   "execution_count": 110,
   "id": "53c15e5c-1f87-48f4-8485-ee94d9bd6811",
   "metadata": {},
   "outputs": [],
   "source": [
    "N_COMPONENTS = [10, 20, 40, 60, 80, 100, 150]"
   ]
  },
  {
   "cell_type": "code",
   "execution_count": 111,
   "id": "9de07923-8d32-4c5c-91bb-e83cd36edb54",
   "metadata": {},
   "outputs": [
    {
     "name": "stdout",
     "output_type": "stream",
     "text": [
      "=====================================\n",
      "n_components: 10\n",
      "accuracy = 0.8932\n",
      "=====================================\n",
      "n_components: 20\n",
      "accuracy = 0.8960\n",
      "=====================================\n",
      "n_components: 40\n",
      "accuracy = 0.8732\n",
      "=====================================\n",
      "n_components: 60\n",
      "accuracy = 0.8766\n",
      "=====================================\n",
      "n_components: 80\n",
      "accuracy = 0.8670\n",
      "=====================================\n",
      "n_components: 100\n",
      "accuracy = 0.8594\n",
      "=====================================\n",
      "n_components: 150\n",
      "accuracy = 0.8535\n"
     ]
    }
   ],
   "source": [
    "accuracies = []\n",
    "\n",
    "for components in N_COMPONENTS:\n",
    "    dt = DecisionTreeClassifier(random_state=RANDOM_STATE)\n",
    "    \n",
    "    pca = PCA(n_components=components, random_state=RANDOM_STATE)\n",
    "    \n",
    "    pca.fit(X_train)\n",
    "    \n",
    "    dt.fit(pca.transform(X_train),y_train)\n",
    "\n",
    "    y_pred = dt.predict(pca.transform(X_test))\n",
    "\n",
    "    accuracy = dt.score(pca.transform(X_test), y_test)\n",
    "    \n",
    "    accuracies.append(accuracy)\n",
    "    \n",
    "    print(\"=====================================\")\n",
    "    print(\"n_components: {}\".format(components))\n",
    "    print(\"accuracy = {:.4f}\".format(accuracy))"
   ]
  },
  {
   "cell_type": "code",
   "execution_count": 112,
   "id": "eb13324a-e5c9-47bc-b11c-b0a3f3561877",
   "metadata": {},
   "outputs": [
    {
     "data": {
      "image/png": "[encoded data removed]",
      "text/plain": [
       "<Figure size 576x576 with 1 Axes>"
      ]
     },
     "metadata": {
      "needs_background": "light"
     },
     "output_type": "display_data"
    }
   ],
   "source": [
    "plt.figure(figsize=(8,8))\n",
    "x = np.arange(len(N_COMPONENTS))\n",
    "plt.plot(x, accuracies, label=\"accuracy\")\n",
    "plt.xticks(x, N_COMPONENTS)\n",
    "plt.legend()\n",
    "plt.grid()\n",
    "plt.show()"
   ]
  },
  {
   "cell_type": "code",
   "execution_count": 113,
   "id": "7b087ced-3d20-47b3-b90e-d6473e87b361",
   "metadata": {},
   "outputs": [],
   "source": [
    "pca = PCA(n_components=20, random_state=RANDOM_STATE)"
   ]
  },
  {
   "cell_type": "code",
   "execution_count": 114,
   "id": "ebe92326-06ce-40e6-bb96-3fce0aba5773",
   "metadata": {},
   "outputs": [
    {
     "name": "stdout",
     "output_type": "stream",
     "text": [
      "accuracy = 0.8960\n"
     ]
    }
   ],
   "source": [
    "dt = DecisionTreeClassifier(random_state=RANDOM_STATE)\n",
    "\n",
    "pca.fit(X_train)\n",
    "\n",
    "dt.fit(pca.transform(X_train),y_train)\n",
    "\n",
    "y_pred = dt.predict(pca.transform(X_test))\n",
    "\n",
    "accuracy = dt.score(pca.transform(X_test), y_test)\n",
    "\n",
    "accuracies.append(accuracy)\n",
    "\n",
    "print(\"accuracy = {:.4f}\".format(accuracy))"
   ]
  },
  {
   "cell_type": "code",
   "execution_count": 115,
   "id": "737a7359-e985-4c5f-b800-dc529b0b25e8",
   "metadata": {},
   "outputs": [
    {
     "data": {
      "text/plain": [
       "<sklearn.metrics._plot.confusion_matrix.ConfusionMatrixDisplay at 0x2060a238130>"
      ]
     },
     "execution_count": 115,
     "metadata": {},
     "output_type": "execute_result"
    },
    {
     "data": {
      "image/png": "[encoded data removed]",
      "text/plain": [
       "<Figure size 432x288 with 2 Axes>"
      ]
     },
     "metadata": {
      "needs_background": "light"
     },
     "output_type": "display_data"
    }
   ],
   "source": [
    "ConfusionMatrixDisplay.from_predictions(y_test, y_pred)"
   ]
  },
  {
   "cell_type": "markdown",
   "id": "10b6689c-9e56-423b-9c5e-62534ba93a0f",
   "metadata": {
    "tags": []
   },
   "source": [
    "### Class weights adjustemnts"
   ]
  },
  {
   "cell_type": "code",
   "execution_count": 116,
   "id": "b2dc208b-72a6-4ea3-af96-ea87776ec99d",
   "metadata": {},
   "outputs": [],
   "source": [
    "N_COMPONENTS = [5, 10, 15, 20, 30]"
   ]
  },
  {
   "cell_type": "code",
   "execution_count": 117,
   "id": "c2be2bd1-fbb1-4ae3-a2f7-29407d40c911",
   "metadata": {},
   "outputs": [
    {
     "name": "stdout",
     "output_type": "stream",
     "text": [
      "=====================================\n",
      "n_components: 5\n",
      "accuracy = 0.8704\n",
      "=====================================\n",
      "n_components: 10\n",
      "accuracy = 0.9008\n",
      "=====================================\n",
      "n_components: 15\n",
      "accuracy = 0.8957\n",
      "=====================================\n",
      "n_components: 20\n",
      "accuracy = 0.8887\n",
      "=====================================\n",
      "n_components: 30\n",
      "accuracy = 0.8842\n"
     ]
    }
   ],
   "source": [
    "accuracies = []\n",
    "\n",
    "for components in N_COMPONENTS:\n",
    "    dt = DecisionTreeClassifier(random_state=RANDOM_STATE, class_weight='balanced')\n",
    "    \n",
    "    pca = PCA(n_components=components, random_state=RANDOM_STATE)\n",
    "    \n",
    "    pca.fit(X_train)\n",
    "    \n",
    "    dt.fit(pca.transform(X_train),y_train)\n",
    "\n",
    "    y_pred = dt.predict(pca.transform(X_test))\n",
    "\n",
    "    accuracy = dt.score(pca.transform(X_test), y_test)\n",
    "    \n",
    "    accuracies.append(accuracy)\n",
    "    \n",
    "    print(\"=====================================\")\n",
    "    print(\"n_components: {}\".format(components))\n",
    "    print(\"accuracy = {:.4f}\".format(accuracy))"
   ]
  },
  {
   "cell_type": "code",
   "execution_count": 118,
   "id": "074d1260-ff91-411e-b375-c567128fff88",
   "metadata": {},
   "outputs": [
    {
     "data": {
      "image/png": "[encoded data removed]",
      "text/plain": [
       "<Figure size 576x576 with 1 Axes>"
      ]
     },
     "metadata": {
      "needs_background": "light"
     },
     "output_type": "display_data"
    }
   ],
   "source": [
    "plt.figure(figsize=(8,8))\n",
    "x = np.arange(len(N_COMPONENTS))\n",
    "plt.plot(x, accuracies, label=\"accuracy\")\n",
    "plt.xticks(x, N_COMPONENTS)\n",
    "plt.legend()\n",
    "plt.grid()\n",
    "plt.show()"
   ]
  },
  {
   "cell_type": "markdown",
   "id": "ceb1fa01-2f25-4047-9d67-fca5e050eee1",
   "metadata": {},
   "source": [
    "# Podsumowanie\n"
   ]
  },
  {
   "cell_type": "markdown",
   "id": "b3c53b86-1f95-4466-89e9-a7854b4ba5a2",
   "metadata": {},
   "source": []
  }
 ],
 "metadata": {
  "kernelspec": {
   "display_name": "Python (aied)",
   "language": "python",
   "name": "aied"
  },
  "language_info": {
   "codemirror_mode": {
    "name": "ipython",
    "version": 3
   },
   "file_extension": ".py",
   "mimetype": "text/x-python",
   "name": "python",
   "nbconvert_exporter": "python",
   "pygments_lexer": "ipython3",
   "version": "3.9.7"
  },
  "toc-autonumbering": true,
  "toc-showmarkdowntxt": false
 },
 "nbformat": 4,
 "nbformat_minor": 5
}
